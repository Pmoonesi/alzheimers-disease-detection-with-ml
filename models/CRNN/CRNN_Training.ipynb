{
 "cells": [
  {
   "cell_type": "code",
   "execution_count": 1,
   "metadata": {
    "id": "mGJtpEnw4g2v"
   },
   "outputs": [],
   "source": [
    "!mkdir ADNI"
   ]
  },
  {
   "cell_type": "code",
   "execution_count": 2,
   "metadata": {
    "id": "kwLR8yQE4Hd9"
   },
   "outputs": [],
   "source": [
    "# !ls . | grep processed | while read f; do tar -xf $f -C ADNI; rm $f; done;\n",
    "!tar -xf temporary.tar.gz -C ADNI"
   ]
  },
  {
   "cell_type": "code",
   "execution_count": 1,
   "metadata": {
    "id": "QxDPEVj7fO99"
   },
   "outputs": [],
   "source": [
    "import nibabel as nib"
   ]
  },
  {
   "cell_type": "code",
   "execution_count": 2,
   "metadata": {
    "id": "Ks8sWLVKld9p"
   },
   "outputs": [],
   "source": [
    "import numpy as np\n",
    "\n",
    "def check_files(files):\n",
    "  corrupted = []\n",
    "\n",
    "  for file_path in files:\n",
    "\n",
    "    try:\n",
    "      # Load the NIfTI file\n",
    "      nifti_img = nib.load(file_path)\n",
    "\n",
    "      # Get the image data and header\n",
    "      img_data = nifti_img.get_fdata()\n",
    "\n",
    "      img_header = nifti_img.header\n",
    "\n",
    "    except Exception as e:\n",
    "      corrupted.append(e)\n",
    "\n",
    "  return corrupted\n"
   ]
  },
  {
   "cell_type": "code",
   "execution_count": 3,
   "metadata": {
    "id": "bwskqOAJ2vjm"
   },
   "outputs": [],
   "source": [
    "import glob\n",
    "\n",
    "images = glob.glob('ADNI/**/*.nii.gz', recursive=True)"
   ]
  },
  {
   "cell_type": "code",
   "execution_count": 26,
   "metadata": {
    "id": "AhfZlUtuscFK"
   },
   "outputs": [],
   "source": [
    "corrupted = check_files(images)"
   ]
  },
  {
   "cell_type": "code",
   "execution_count": 27,
   "metadata": {
    "colab": {
     "base_uri": "https://localhost:8080/"
    },
    "id": "5asD1qSrpXPU",
    "outputId": "752d1a41-addf-476b-cff0-64af6c28c126"
   },
   "outputs": [
    {
     "data": {
      "text/plain": [
       "[]"
      ]
     },
     "execution_count": 27,
     "metadata": {},
     "output_type": "execute_result"
    }
   ],
   "source": [
    "corrupted"
   ]
  },
  {
   "cell_type": "markdown",
   "metadata": {
    "id": "Lkwr8h6ooAk1"
   },
   "source": [
    "# CNN - pretrain"
   ]
  },
  {
   "cell_type": "markdown",
   "metadata": {
    "id": "BDsCOZxI4FWd"
   },
   "source": [
    "## Model"
   ]
  },
  {
   "cell_type": "code",
   "execution_count": 4,
   "metadata": {
    "id": "2EY4t7ll4XJG"
   },
   "outputs": [],
   "source": [
    "import torch\n",
    "import torch.nn as nn\n",
    "import torch.nn.functional as F\n",
    "# from torchsummary import summary\n",
    "\n",
    "class ConvBlock(nn.Module):\n",
    "\n",
    "  def __init__(self):\n",
    "    super(ConvBlock, self).__init__()\n",
    "\n",
    "    self.conv_0_1 = nn.Conv3d(1, 15, kernel_size=(3, 3, 3), stride=(1, 1, 1), padding='same')\n",
    "    self.bn_0 = nn.BatchNorm3d(15)\n",
    "    self.conv_0_p = nn.Conv3d(15, 15, kernel_size=(2, 2, 2), stride=(2, 2, 2))\n",
    "\n",
    "    self.conv_1_1 = nn.Conv3d(15, 15, kernel_size=(3, 3, 3), stride=(1, 1, 1), padding='same')\n",
    "    self.bn_1 = nn.BatchNorm3d(15)\n",
    "    self.conv_1_2 = nn.Conv3d(15, 15, kernel_size=(3, 3, 3), stride=(1, 1, 1), padding='same')\n",
    "\n",
    "    # merge1: layer 0 and layer 1\n",
    "\n",
    "    self.bn_2_1 = nn.BatchNorm3d(30)\n",
    "    self.conv_2_1 = nn.Conv3d(30, 25, kernel_size=(2, 2, 2), stride=(2, 2, 2))\n",
    "    self.bn_2_2 = nn.BatchNorm3d(25)\n",
    "    self.conv_2_2 = nn.Conv3d(25, 25, kernel_size=(3, 3, 3), stride=(1, 1, 1), padding='same')\n",
    "    self.conv_2_cut = nn.Conv3d(30, 15, kernel_size=(2, 2, 2), stride=(2, 2, 2)) # input from merge 1\n",
    "\n",
    "    # merge2: layer2 and the cut2\n",
    "\n",
    "    self.bn_3_1 = nn.BatchNorm3d(40)\n",
    "    self.conv_3_1 = nn.Conv3d(40, 35, kernel_size=(2, 2, 2), stride=(2, 2, 2))\n",
    "    self.bn_3_2 = nn.BatchNorm3d(35)\n",
    "    self.conv_3_2 = nn.Conv3d(35, 35, kernel_size=(3, 3, 3), stride=(1, 1, 1), padding='same')\n",
    "    self.conv_3_cut = nn.Conv3d(40, 25, kernel_size=(2, 2, 2), stride=(2, 2, 2)) # input from merge 2\n",
    "\n",
    "    # merge3: layer3 and the cut3\n",
    "\n",
    "    self.bn_4 = nn.BatchNorm3d(60)\n",
    "    self.conv_4_1 = nn.Conv3d(60, 30, kernel_size=(3, 3, 3), stride=(1, 1, 1), padding='valid')\n",
    "    self.conv_4_2 = nn.Conv3d(30, 30, kernel_size=(3, 3, 3), stride=(1, 1, 1), padding='valid')\n",
    "\n",
    "\n",
    "  def forward(self, x):\n",
    "\n",
    "    x = self.conv_0_1(x)\n",
    "    x = F.relu(self.bn_0(x))\n",
    "    x1 = self.conv_0_p(x)\n",
    "\n",
    "    x = self.conv_1_1(x1)\n",
    "    x = F.dropout(F.relu(self.bn_1(x)), p=0.2) #?\n",
    "    x = self.conv_1_2(x)\n",
    "\n",
    "    x2 = torch.cat((x1, x), dim=1) # merge_1\n",
    "\n",
    "    x = F.relu(self.bn_2_1(x2))\n",
    "    x = self.conv_2_1(x)\n",
    "    x = F.relu(self.bn_2_2(F.dropout(x, p=0.2)))\n",
    "    x = self.conv_2_2(x)\n",
    "\n",
    "    xc2 = self.conv_2_cut(x2)\n",
    "    x3 = torch.cat((x, xc2), dim=1) # merge_2\n",
    "\n",
    "    x = F.relu(self.bn_3_1(x3))\n",
    "    x = self.conv_3_1(x)\n",
    "    x = F.relu(self.bn_3_2(F.dropout(x, p=0.2)))\n",
    "    x = self.conv_3_2(x)\n",
    "\n",
    "    xc3 = self.conv_3_cut(x3)\n",
    "    x4 = torch.cat((x, xc3), dim=1) # merge_3\n",
    "\n",
    "    x = F.relu(self.bn_4(x4))\n",
    "    x = self.conv_4_1(x)\n",
    "    x = self.conv_4_2(x)\n",
    "\n",
    "    return x\n"
   ]
  },
  {
   "cell_type": "code",
   "execution_count": 11,
   "metadata": {
    "colab": {
     "base_uri": "https://localhost:8080/"
    },
    "id": "xnf8dwcIO6ZT",
    "outputId": "b61b369f-2436-476f-932f-b8b47ecdbad7"
   },
   "outputs": [
    {
     "name": "stdout",
     "output_type": "stream",
     "text": [
      "----------------------------------------------------------------\n",
      "        Layer (type)               Output Shape         Param #\n",
      "================================================================\n",
      "            Conv3d-1       [-1, 15, 50, 42, 42]             420\n",
      "       BatchNorm3d-2       [-1, 15, 50, 42, 42]              30\n",
      "            Conv3d-3       [-1, 15, 25, 21, 21]           1,815\n",
      "            Conv3d-4       [-1, 15, 25, 21, 21]           6,090\n",
      "       BatchNorm3d-5       [-1, 15, 25, 21, 21]              30\n",
      "            Conv3d-6       [-1, 15, 25, 21, 21]           6,090\n",
      "       BatchNorm3d-7       [-1, 30, 25, 21, 21]              60\n",
      "            Conv3d-8       [-1, 25, 12, 10, 10]           6,025\n",
      "       BatchNorm3d-9       [-1, 25, 12, 10, 10]              50\n",
      "           Conv3d-10       [-1, 25, 12, 10, 10]          16,900\n",
      "           Conv3d-11       [-1, 15, 12, 10, 10]           3,615\n",
      "      BatchNorm3d-12       [-1, 40, 12, 10, 10]              80\n",
      "           Conv3d-13          [-1, 35, 6, 5, 5]          11,235\n",
      "      BatchNorm3d-14          [-1, 35, 6, 5, 5]              70\n",
      "           Conv3d-15          [-1, 35, 6, 5, 5]          33,110\n",
      "           Conv3d-16          [-1, 25, 6, 5, 5]           8,025\n",
      "      BatchNorm3d-17          [-1, 60, 6, 5, 5]             120\n",
      "           Conv3d-18          [-1, 30, 4, 3, 3]          48,630\n",
      "           Conv3d-19          [-1, 30, 2, 1, 1]          24,330\n",
      "================================================================\n",
      "Total params: 166,725\n",
      "Trainable params: 166,725\n",
      "Non-trainable params: 0\n",
      "----------------------------------------------------------------\n",
      "Input size (MB): 0.34\n",
      "Forward/backward pass size (MB): 29.17\n",
      "Params size (MB): 0.64\n",
      "Estimated Total Size (MB): 30.15\n",
      "----------------------------------------------------------------\n"
     ]
    }
   ],
   "source": [
    "summary(ConvBlock().cuda(), (1, 50, 42, 42))"
   ]
  },
  {
   "cell_type": "code",
   "execution_count": 5,
   "metadata": {
    "id": "3fUkzWQ2Wmcj"
   },
   "outputs": [],
   "source": [
    "class ActualCNN(nn.Module):\n",
    "\n",
    "  def __init__(self):\n",
    "    super(ActualCNN, self).__init__()\n",
    "\n",
    "    self.conv_block = ConvBlock()\n",
    "\n",
    "    self.flatten = nn.Flatten()\n",
    "\n",
    "    self.fc1 = nn.Linear(60, 300)\n",
    "    self.fc2 = nn.Linear(300, 50)\n",
    "    self.fc3 = nn.Linear(50, 3)\n",
    "\n",
    "  def forward(self, x):\n",
    "\n",
    "    x = self.conv_block(x)\n",
    "\n",
    "    x = self.flatten(x)\n",
    "\n",
    "    x = F.relu(F.dropout(self.fc1(x), p=0.2))\n",
    "    x = F.relu(self.fc2(x))\n",
    "    x = self.fc3(x)\n",
    "\n",
    "    return F.softmax(x, dim=1)"
   ]
  },
  {
   "cell_type": "code",
   "execution_count": 13,
   "metadata": {
    "colab": {
     "base_uri": "https://localhost:8080/"
    },
    "id": "Wbr3huPaYENT",
    "outputId": "411ccf0c-b682-4277-d0c4-ab077d910f4f"
   },
   "outputs": [
    {
     "name": "stdout",
     "output_type": "stream",
     "text": [
      "----------------------------------------------------------------\n",
      "        Layer (type)               Output Shape         Param #\n",
      "================================================================\n",
      "            Conv3d-1       [-1, 15, 50, 42, 42]             420\n",
      "       BatchNorm3d-2       [-1, 15, 50, 42, 42]              30\n",
      "            Conv3d-3       [-1, 15, 25, 21, 21]           1,815\n",
      "            Conv3d-4       [-1, 15, 25, 21, 21]           6,090\n",
      "       BatchNorm3d-5       [-1, 15, 25, 21, 21]              30\n",
      "            Conv3d-6       [-1, 15, 25, 21, 21]           6,090\n",
      "       BatchNorm3d-7       [-1, 30, 25, 21, 21]              60\n",
      "            Conv3d-8       [-1, 25, 12, 10, 10]           6,025\n",
      "       BatchNorm3d-9       [-1, 25, 12, 10, 10]              50\n",
      "           Conv3d-10       [-1, 25, 12, 10, 10]          16,900\n",
      "           Conv3d-11       [-1, 15, 12, 10, 10]           3,615\n",
      "      BatchNorm3d-12       [-1, 40, 12, 10, 10]              80\n",
      "           Conv3d-13          [-1, 35, 6, 5, 5]          11,235\n",
      "      BatchNorm3d-14          [-1, 35, 6, 5, 5]              70\n",
      "           Conv3d-15          [-1, 35, 6, 5, 5]          33,110\n",
      "           Conv3d-16          [-1, 25, 6, 5, 5]           8,025\n",
      "      BatchNorm3d-17          [-1, 60, 6, 5, 5]             120\n",
      "           Conv3d-18          [-1, 30, 4, 3, 3]          48,630\n",
      "           Conv3d-19          [-1, 30, 2, 1, 1]          24,330\n",
      "        ConvBlock-20          [-1, 30, 2, 1, 1]               0\n",
      "          Flatten-21                   [-1, 60]               0\n",
      "           Linear-22                  [-1, 300]          18,300\n",
      "           Linear-23                   [-1, 50]          15,050\n",
      "           Linear-24                    [-1, 3]             153\n",
      "================================================================\n",
      "Total params: 200,228\n",
      "Trainable params: 200,228\n",
      "Non-trainable params: 0\n",
      "----------------------------------------------------------------\n",
      "Input size (MB): 0.34\n",
      "Forward/backward pass size (MB): 29.18\n",
      "Params size (MB): 0.76\n",
      "Estimated Total Size (MB): 30.28\n",
      "----------------------------------------------------------------\n"
     ]
    }
   ],
   "source": [
    "summary(ActualCNN().cuda(), (1, 50, 42, 42))"
   ]
  },
  {
   "cell_type": "markdown",
   "metadata": {
    "id": "QR6R4PREuKrs"
   },
   "source": [
    "## dataset creation"
   ]
  },
  {
   "cell_type": "code",
   "execution_count": 6,
   "metadata": {
    "id": "s3TrZYmopEtL"
   },
   "outputs": [],
   "source": [
    "import pandas as pd\n",
    "\n",
    "df = pd.read_csv('ADNI1_Complete_3Yr_1.5T_4_09_2024.csv')\n",
    "df = df.query('Description in [\"MPR-R; GradWarp; B1 Correction; N3; Scaled\", \"MPR; GradWarp; B1 Correction; N3; Scaled\"]').query('Visit in [\"sc\", \"m06\", \"m12\", \"m18\", \"m24\", \"m36\"]').reset_index(drop=True)"
   ]
  },
  {
   "cell_type": "code",
   "execution_count": 7,
   "metadata": {
    "id": "8ddn5ttbpTrI"
   },
   "outputs": [],
   "source": [
    "from sklearn.model_selection import train_test_split\n",
    "\n",
    "Subjects, Groups = df[['Subject', 'Group']].drop_duplicates(['Subject']).T.to_numpy()\n",
    "train_subjects, test_subjects = train_test_split(Subjects, test_size=0.1, random_state=22, stratify=Groups)\n",
    "\n",
    "train_df = df[df['Subject'].isin(train_subjects)][['Image Data ID','Group']]\n",
    "train_images, train_labels = train_df.T.to_numpy()\n",
    "\n",
    "test_df = df[df['Subject'].isin(test_subjects)][['Image Data ID','Group']]\n",
    "test_images, test_labels = test_df.T.to_numpy()"
   ]
  },
  {
   "cell_type": "code",
   "execution_count": 8,
   "metadata": {
    "id": "Qq86YnAksTpk"
   },
   "outputs": [],
   "source": [
    "def find_min_max(images):\n",
    "\n",
    "  min_i = float(\"inf\")\n",
    "  max_i = -float(\"inf\")\n",
    "\n",
    "  for image_path in images:\n",
    "\n",
    "    try:\n",
    "\n",
    "      nifti_img = nib.load(image_path)\n",
    "\n",
    "      img_data = nifti_img.get_fdata()\n",
    "\n",
    "      min_i = min(img_data.min(), min_i)\n",
    "      max_i = max(img_data.max(), max_i)\n",
    "\n",
    "    except Exception as e:\n",
    "      print(f'there was a problem fetching the image! PATH: {image_path}')\n",
    "\n",
    "  return min_i, max_i"
   ]
  },
  {
   "cell_type": "code",
   "execution_count": 17,
   "metadata": {
    "id": "Clw4r1OMtEf-"
   },
   "outputs": [],
   "source": [
    "# total_min, total_max = find_min_max(images) # print(total_min, total_max) -> 0.0 146.20672607421875"
   ]
  },
  {
   "cell_type": "code",
   "execution_count": 9,
   "metadata": {
    "id": "tzHJNnWF0nqx"
   },
   "outputs": [],
   "source": [
    "import re\n",
    "\n",
    "def make_id_translator(paths):\n",
    "  return {re.search('(I\\d{3,6})\\.', x).group(1): x for x in paths}\n",
    "\n",
    "id_to_path = make_id_translator(images)"
   ]
  },
  {
   "cell_type": "code",
   "execution_count": 10,
   "metadata": {
    "id": "rkxrEUf_3hFs"
   },
   "outputs": [],
   "source": [
    "def image_exists(sample):\n",
    "  image_id, group = sample\n",
    "  return image_id in id_to_path\n",
    "\n",
    "train_set = list(zip(train_images, train_labels))\n",
    "\n",
    "train_set = list(filter(image_exists, train_set))\n",
    "\n",
    "train_images, train_labels = zip(*train_set)"
   ]
  },
  {
   "cell_type": "code",
   "execution_count": 11,
   "metadata": {
    "id": "ungfdSfi4Qh6"
   },
   "outputs": [],
   "source": [
    "train_image_paths = [id_to_path[k] for k in train_images]"
   ]
  },
  {
   "cell_type": "code",
   "execution_count": 12,
   "metadata": {
    "id": "BVtR0soc5jlA"
   },
   "outputs": [],
   "source": [
    "test_set = list(zip(test_images, test_labels))\n",
    "\n",
    "test_set = list(filter(image_exists, test_set))\n",
    "\n",
    "test_images, test_labels = zip(*test_set)"
   ]
  },
  {
   "cell_type": "code",
   "execution_count": 13,
   "metadata": {
    "id": "bWObIpS15mQL"
   },
   "outputs": [],
   "source": [
    "test_image_paths = [id_to_path[k] for k in test_images]"
   ]
  },
  {
   "cell_type": "code",
   "execution_count": 14,
   "metadata": {
    "id": "F7FsaY47e2jN"
   },
   "outputs": [],
   "source": [
    "import torch\n",
    "from torch.utils.data import Dataset\n",
    "from torchvision import transforms\n",
    "import nibabel as nib\n",
    "import numpy as np\n",
    "from sklearn.preprocessing import LabelEncoder\n",
    "\n",
    "minimum = 0.0\n",
    "maximum = 146.20672607421875\n",
    "\n",
    "class CNNDataset(Dataset):\n",
    "    def __init__(self, file_paths, labels, transform=None):\n",
    "        self.file_paths = file_paths\n",
    "        self.labels = labels\n",
    "        self.transform = transform\n",
    "\n",
    "    def __len__(self):\n",
    "        return len(self.file_paths)\n",
    "\n",
    "    def __getitem__(self, idx):\n",
    "        file_path = self.file_paths[idx]\n",
    "        label = self.labels[idx]\n",
    "\n",
    "        # Load NIfTI image\n",
    "        nifti_img = nib.load(file_path)\n",
    "\n",
    "        # Get the image data\n",
    "        img_data = nifti_img.get_fdata()\n",
    "\n",
    "        # Min max scale to (-1, 1) range\n",
    "        # img_data = ((img_data - minimum) / (maximum - minimum)) * 2 - 1\n",
    "        img_data = ((img_data - minimum) / (maximum - minimum))\n",
    "\n",
    "        # Extract the non-zero intensity space\n",
    "        img_data = img_data[44:-44, 44:-44, 28:-28]\n",
    "\n",
    "        # subsample by the factor of 4\n",
    "        img_data = img_data[::4,::4,::4]\n",
    "\n",
    "        # Expand dimensions to add a channel (assuming grayscale images)\n",
    "        img_data = np.expand_dims(img_data, axis=0)\n",
    "\n",
    "        # Permute dimensions to match [batch_size, channels, depth, height, width]\n",
    "        # (42, 42, 50) -> (50, 42, 42)\n",
    "        img_data = torch.FloatTensor(img_data).permute(0, 3, 1, 2)\n",
    "\n",
    "        if self.transform:\n",
    "            img_data = self.transform(img_data)\n",
    "\n",
    "        return img_data, torch.FloatTensor(label)\n",
    "\n",
    "# Assuming 'X' is a list of file paths to your images and 'y' is your labels\n",
    "# X_train, X_test, y_train, y_test = train_test_split(images, labels, test_size=0.2, random_state=42)\n",
    "\n",
    "# Convert labels to one-hot encoding\n",
    "le = LabelEncoder()\n",
    "y_train_encoded = le.fit_transform(train_labels)\n",
    "y_test_encoded = le.transform(test_labels)\n",
    "\n",
    "y_train_one_hot = torch.nn.functional.one_hot(torch.tensor(y_train_encoded), num_classes=3).float()\n",
    "y_test_one_hot = torch.nn.functional.one_hot(torch.tensor(y_test_encoded), num_classes=3).float()\n",
    "\n",
    "# # Define transformations if needed\n",
    "# transform = transforms.Compose([\n",
    "#     # Add your transformations here if needed\n",
    "# ])\n",
    "\n",
    "# Create custom datasets\n",
    "train_dataset = CNNDataset(file_paths=train_image_paths, labels=y_train_one_hot)\n",
    "test_dataset = CNNDataset(file_paths=test_image_paths, labels=y_test_one_hot)\n",
    "\n",
    "# Create data loaders\n",
    "batch_size = 64\n",
    "train_loader = torch.utils.data.DataLoader(train_dataset, batch_size=batch_size, shuffle=True, drop_last=True)\n",
    "test_loader = torch.utils.data.DataLoader(test_dataset, batch_size=batch_size, shuffle=False, drop_last=True)\n"
   ]
  },
  {
   "cell_type": "code",
   "execution_count": 15,
   "metadata": {
    "colab": {
     "base_uri": "https://localhost:8080/"
    },
    "id": "e2-eTaZUJdpO",
    "outputId": "0d4b4c25-8e85-4112-f077-47329d62c1d7"
   },
   "outputs": [
    {
     "data": {
      "text/plain": [
       "1376"
      ]
     },
     "execution_count": 15,
     "metadata": {},
     "output_type": "execute_result"
    }
   ],
   "source": [
    "len(train_dataset)"
   ]
  },
  {
   "cell_type": "code",
   "execution_count": 16,
   "metadata": {
    "colab": {
     "base_uri": "https://localhost:8080/"
    },
    "id": "ijP0coVaJf1b",
    "outputId": "2f6352c9-7c47-4864-fb15-605d693ed966"
   },
   "outputs": [
    {
     "data": {
      "text/plain": [
       "157"
      ]
     },
     "execution_count": 16,
     "metadata": {},
     "output_type": "execute_result"
    }
   ],
   "source": [
    "len(test_dataset)"
   ]
  },
  {
   "cell_type": "code",
   "execution_count": 17,
   "metadata": {
    "colab": {
     "base_uri": "https://localhost:8080/"
    },
    "id": "QDvrUITM76sZ",
    "outputId": "66b122b4-4351-4dc9-d1ab-791280fae52e"
   },
   "outputs": [
    {
     "data": {
      "text/plain": [
       "torch.Size([1, 50, 42, 42])"
      ]
     },
     "execution_count": 17,
     "metadata": {},
     "output_type": "execute_result"
    }
   ],
   "source": [
    "next(iter(train_loader))[0][0].shape"
   ]
  },
  {
   "cell_type": "markdown",
   "metadata": {
    "id": "bj3PzM6VDeGn"
   },
   "source": [
    "## training"
   ]
  },
  {
   "cell_type": "code",
   "execution_count": 18,
   "metadata": {
    "id": "MrpEYcKjZyxI"
   },
   "outputs": [],
   "source": [
    "import shutil\n",
    "import os"
   ]
  },
  {
   "cell_type": "code",
   "execution_count": 19,
   "metadata": {
    "id": "0Mn0tyCTDgZ4"
   },
   "outputs": [],
   "source": [
    "def save_checkpoint(model, optimizer, epoch, filename, train_losses, test_losses):\n",
    "    checkpoint = {\n",
    "        'epoch': epoch,\n",
    "        'model_state_dict': model.state_dict(),\n",
    "        'optimizer_state_dict': optimizer.state_dict(),\n",
    "        'train_losses': train_losses,\n",
    "        'test_losses': test_losses\n",
    "    }\n",
    "    save_path = '/home/parham/Desktop/Project/features/crnn/train/checkpoints'\n",
    "\n",
    "    if not os.path.isdir(save_path):\n",
    "      os.makedirs(save_path)\n",
    "\n",
    "    torch.save(checkpoint, filename)\n",
    "    shutil.copyfile(filename, os.path.join(save_path, filename))\n",
    "\n",
    "def load_checkpoint(model, optimizer, filename):\n",
    "    if not torch.cuda.is_available():\n",
    "      checkpoint = torch.load(filename, map_location=torch.device('cpu'))\n",
    "    else:\n",
    "      checkpoint = torch.load(filename)\n",
    "    model.load_state_dict(checkpoint['model_state_dict'])\n",
    "    optimizer.load_state_dict(checkpoint['optimizer_state_dict'])\n",
    "    epoch = checkpoint['epoch']\n",
    "    train_losses = checkpoint['train_losses']\n",
    "    test_losses = checkpoint['test_losses']\n",
    "    return model, optimizer, epoch, train_losses, test_losses\n"
   ]
  },
  {
   "cell_type": "code",
   "execution_count": 20,
   "metadata": {
    "id": "_esdce2PKOsE"
   },
   "outputs": [],
   "source": [
    "def validate(model, dataloader):\n",
    "\n",
    "  model.eval()\n",
    "  correct = 0\n",
    "  total = 0\n",
    "\n",
    "  with torch.no_grad():\n",
    "      for data, target in dataloader:\n",
    "          data, target = data.to(device), target.to(device)\n",
    "          output = model(data)\n",
    "          _, predicted = torch.max(output.data, 1)\n",
    "          total += target.size(0)\n",
    "          correct += (predicted == torch.argmax(target, dim=1)).sum().item()\n",
    "\n",
    "  accuracy = correct / total\n",
    "\n",
    "  model.train()\n",
    "  return accuracy\n",
    "\n",
    "def plot(losses, labels):\n",
    "\n",
    "  assert len(losses) == len(labels)\n",
    "\n",
    "  for (loss, label) in list(zip(losses, labels)):\n",
    "    plt.plot(loss, label=label)\n",
    "    plt.plot(loss, label=label)\n",
    "\n",
    "  plt.xlabel('Epoch')\n",
    "  plt.ylabel('Loss')\n",
    "  plt.title('Training and Validation Loss')\n",
    "  plt.legend()\n",
    "  plt.show()"
   ]
  },
  {
   "cell_type": "code",
   "execution_count": 21,
   "metadata": {
    "id": "YbkMiqCvDn_G"
   },
   "outputs": [],
   "source": [
    "params_filename = 'checkpoint.pth'"
   ]
  },
  {
   "cell_type": "code",
   "execution_count": 32,
   "metadata": {
    "id": "vjyGngcEjW_M"
   },
   "outputs": [],
   "source": [
    "# !cp '/content/drive/MyDrive/Utils/CRNN-R_Cui/weights/cnn/checkpoint.pth' ."
   ]
  },
  {
   "cell_type": "code",
   "execution_count": null,
   "metadata": {
    "colab": {
     "base_uri": "https://localhost:8080/",
     "height": 1000
    },
    "id": "sCYiOb890HSV",
    "outputId": "5714fd06-c3a1-446d-ec74-d5bf141ad07a"
   },
   "outputs": [
    {
     "name": "stdout",
     "output_type": "stream",
     "text": [
      "Epoch 1/100, Batch 1/21, Loss: 1.0951720476150513\n",
      "Epoch 1/100, Batch 11/21, Loss: 1.0865634679794312\n",
      "Epoch 1/100, Batch 21/21, Loss: 1.0464881658554077\n",
      "Validation Accuracy: 43.75%\n",
      "Validation Loss: 1.0858\n",
      "Epoch 2/100, Batch 1/21, Loss: 1.0754432678222656\n",
      "Epoch 2/100, Batch 11/21, Loss: 1.1140562295913696\n",
      "Epoch 2/100, Batch 21/21, Loss: 1.0517685413360596\n",
      "Validation Accuracy: 43.75%\n",
      "Validation Loss: 1.0745\n",
      "Epoch 3/100, Batch 1/21, Loss: 1.0502065420150757\n",
      "Epoch 3/100, Batch 11/21, Loss: 1.056660771369934\n",
      "Epoch 3/100, Batch 21/21, Loss: 1.0485941171646118\n",
      "Validation Accuracy: 43.75%\n",
      "Validation Loss: 1.0632\n",
      "Epoch 4/100, Batch 1/21, Loss: 1.0522419214248657\n",
      "Epoch 4/100, Batch 11/21, Loss: 1.0130146741867065\n",
      "Epoch 4/100, Batch 21/21, Loss: 0.9585012793540955\n",
      "Validation Accuracy: 43.75%\n",
      "Validation Loss: 1.0577\n",
      "Epoch 5/100, Batch 1/21, Loss: 1.0505433082580566\n",
      "Epoch 5/100, Batch 11/21, Loss: 0.8903737664222717\n",
      "Epoch 5/100, Batch 21/21, Loss: 0.9106207489967346\n",
      "Validation Accuracy: 45.31%\n",
      "Validation Loss: 1.0487\n",
      "Training Accuracy: 74.33%\n",
      "Training Loss: 0.9428\n",
      "Epoch 6/100, Batch 1/21, Loss: 0.888282299041748\n",
      "Epoch 6/100, Batch 11/21, Loss: 0.8271253705024719\n",
      "Epoch 6/100, Batch 21/21, Loss: 0.8249748349189758\n",
      "Validation Accuracy: 43.75%\n",
      "Validation Loss: 1.0776\n",
      "Epoch 7/100, Batch 1/21, Loss: 0.7567687034606934\n",
      "Epoch 7/100, Batch 11/21, Loss: 0.7808583378791809\n",
      "Epoch 7/100, Batch 21/21, Loss: 0.767680287361145\n",
      "Validation Accuracy: 36.72%\n",
      "Validation Loss: 1.1027\n",
      "Epoch 8/100, Batch 1/21, Loss: 0.7960624694824219\n",
      "Epoch 8/100, Batch 11/21, Loss: 0.7155856490135193\n",
      "Epoch 8/100, Batch 21/21, Loss: 0.7498236298561096\n",
      "Validation Accuracy: 50.78%\n",
      "Validation Loss: 1.0442\n",
      "Epoch 9/100, Batch 1/21, Loss: 0.7349780797958374\n",
      "Epoch 9/100, Batch 11/21, Loss: 0.7482378482818604\n",
      "Epoch 9/100, Batch 21/21, Loss: 0.7080848217010498\n",
      "Validation Accuracy: 36.72%\n",
      "Validation Loss: 1.1159\n",
      "Epoch 10/100, Batch 1/21, Loss: 0.6641306281089783\n",
      "Epoch 10/100, Batch 11/21, Loss: 0.7010107636451721\n",
      "Epoch 10/100, Batch 21/21, Loss: 0.696841835975647\n",
      "Validation Accuracy: 32.03%\n",
      "Validation Loss: 1.1478\n",
      "Training Accuracy: 92.71%\n",
      "Training Loss: 0.6692\n",
      "Epoch 11/100, Batch 1/21, Loss: 0.6785945296287537\n",
      "Epoch 11/100, Batch 11/21, Loss: 0.662567675113678\n",
      "Epoch 11/100, Batch 21/21, Loss: 0.6476946473121643\n",
      "Validation Accuracy: 36.72%\n",
      "Validation Loss: 1.1476\n",
      "Epoch 12/100, Batch 1/21, Loss: 0.6096329689025879\n",
      "Epoch 12/100, Batch 11/21, Loss: 0.6350122690200806\n",
      "Epoch 12/100, Batch 21/21, Loss: 0.6043217182159424\n",
      "Validation Accuracy: 31.25%\n",
      "Validation Loss: 1.1926\n",
      "Epoch 13/100, Batch 1/21, Loss: 0.6118742823600769\n",
      "Epoch 13/100, Batch 11/21, Loss: 0.5875089764595032\n",
      "Epoch 13/100, Batch 21/21, Loss: 0.6001514196395874\n",
      "Validation Accuracy: 32.03%\n",
      "Validation Loss: 1.1707\n",
      "Epoch 14/100, Batch 1/21, Loss: 0.6003637313842773\n",
      "Epoch 14/100, Batch 11/21, Loss: 0.6212179660797119\n",
      "Epoch 14/100, Batch 21/21, Loss: 0.5850347280502319\n",
      "Validation Accuracy: 32.03%\n",
      "Validation Loss: 1.2105\n",
      "Epoch 15/100, Batch 1/21, Loss: 0.5847654938697815\n",
      "Epoch 15/100, Batch 11/21, Loss: 0.6190122365951538\n",
      "Epoch 15/100, Batch 21/21, Loss: 0.607869565486908\n",
      "Validation Accuracy: 26.56%\n",
      "Validation Loss: 1.2404\n",
      "Training Accuracy: 96.13%\n",
      "Training Loss: 0.5864\n",
      "Epoch 16/100, Batch 1/21, Loss: 0.563019871711731\n",
      "Epoch 16/100, Batch 11/21, Loss: 0.6060919761657715\n",
      "Epoch 16/100, Batch 21/21, Loss: 0.5753356218338013\n",
      "Validation Accuracy: 32.03%\n",
      "Validation Loss: 1.2058\n",
      "Epoch 17/100, Batch 1/21, Loss: 0.5743733644485474\n",
      "Epoch 17/100, Batch 11/21, Loss: 0.5740479826927185\n",
      "Epoch 17/100, Batch 21/21, Loss: 0.5870499610900879\n",
      "Validation Accuracy: 29.69%\n",
      "Validation Loss: 1.2274\n",
      "Epoch 18/100, Batch 1/21, Loss: 0.5536071062088013\n",
      "Epoch 18/100, Batch 11/21, Loss: 0.5888311862945557\n"
     ]
    }
   ],
   "source": [
    "import torch\n",
    "import torch.optim as optim\n",
    "\n",
    "device = torch.device('cuda') if torch.cuda.is_available() else torch.device('cpu')\n",
    "\n",
    "# Instantiate the model\n",
    "model = ActualCNN()\n",
    "model.to(device)\n",
    "\n",
    "# Define the loss function and optimizer\n",
    "criterion = nn.CrossEntropyLoss()\n",
    "optimizer = optim.Adadelta(model.parameters(), lr=0.8, rho=0.7, eps=1e-08, weight_decay=0)\n",
    "\n",
    "s_epoch = -1\n",
    "\n",
    "# Initialize the loss arrays\n",
    "train_losses = []\n",
    "valid_losses = []\n",
    "valid_accuracy = []\n",
    "\n",
    "# Load the training data if needed\n",
    "# model, optimizer, s_epoch, train_losses, valid_losses = load_checkpoint(model, optimizer, '/content/checkpoint.pth')\n",
    "\n",
    "# Number of training epochs\n",
    "num_epochs = 100\n",
    "\n",
    "# Training loop\n",
    "for epoch in range(s_epoch + 1, num_epochs):\n",
    "    model.train()\n",
    "\n",
    "    epoch_train_loss = 0\n",
    "\n",
    "    for batch_idx, (data, target) in enumerate(train_loader):\n",
    "        data, target = data.to(device), target.to(device)\n",
    "\n",
    "        # Zero the gradients\n",
    "        optimizer.zero_grad()\n",
    "\n",
    "        # Forward pass\n",
    "        output = model(data)\n",
    "\n",
    "        # Calculate the loss\n",
    "        loss = criterion(output, torch.argmax(target, dim=1))\n",
    "        epoch_train_loss += loss.item()\n",
    "\n",
    "        # Backward pass\n",
    "        loss.backward()\n",
    "\n",
    "        # Update weights\n",
    "        optimizer.step()\n",
    "\n",
    "        # Print training statistics\n",
    "        if batch_idx % 10 == 0:\n",
    "            print(f'Epoch {epoch+1}/{num_epochs}, Batch {batch_idx+1}/{len(train_loader)}, Loss: {loss.item()}')\n",
    "\n",
    "    epoch_train_loss = epoch_train_loss / len(train_loader)\n",
    "\n",
    "    # Validation loop\n",
    "    model.eval()\n",
    "    correct = 0\n",
    "    total = 0\n",
    "\n",
    "    epoch_valid_loss = 0\n",
    "\n",
    "    with torch.no_grad():\n",
    "        for data, target in test_loader:\n",
    "            data, target = data.to(device), target.to(device)\n",
    "            output = model(data)\n",
    "            _, predicted = torch.max(output.data, 1)\n",
    "            total += target.size(0)\n",
    "            correct += (predicted == torch.argmax(target, dim=1)).sum().item()\n",
    "            loss = criterion(output, torch.argmax(target, dim=1))\n",
    "            epoch_valid_loss += loss.item()\n",
    "\n",
    "    epoch_valid_loss = epoch_valid_loss / len(test_loader)\n",
    "\n",
    "    accuracy = correct / total\n",
    "    print(f'Validation Accuracy: {accuracy * 100:.2f}%')\n",
    "    print(f'Validation Loss: {epoch_valid_loss:.4f}')\n",
    "\n",
    "    train_losses.append(epoch_train_loss)\n",
    "    valid_losses.append(epoch_valid_loss)\n",
    "    valid_accuracy.append(accuracy)\n",
    "\n",
    "\n",
    "    if (epoch + 1) % 5 == 0:\n",
    "        save_checkpoint(model, optimizer, epoch, params_filename, train_losses, valid_losses)\n",
    "        train_accuracy = validate(model, train_loader)\n",
    "        print(f'Training Accuracy: {train_accuracy * 100:.2f}%')\n",
    "        print(f'Training Loss: {epoch_train_loss:.4f}')\n"
   ]
  },
  {
   "cell_type": "code",
   "execution_count": 48,
   "metadata": {
    "colab": {
     "base_uri": "https://localhost:8080/",
     "height": 472
    },
    "id": "gr3DXVErDBcS",
    "outputId": "0a4c480b-6cdc-436e-ad20-343552a1da9d"
   },
   "outputs": [
    {
     "data": {
      "image/png": "[encoded data removed]",
      "text/plain": [
       "<Figure size 640x480 with 1 Axes>"
      ]
     },
     "metadata": {},
     "output_type": "display_data"
    }
   ],
   "source": [
    "import matplotlib.pyplot as plt\n",
    "\n",
    "# Plot training and validation loss\n",
    "plt.plot(train_losses, label='Training loss')\n",
    "plt.plot(valid_losses, label='Validation loss')\n",
    "plt.xlabel('Epoch')\n",
    "plt.ylabel('Loss')\n",
    "plt.title('Training and Validation Loss')\n",
    "plt.legend()\n",
    "plt.show()"
   ]
  },
  {
   "cell_type": "code",
   "execution_count": null,
   "metadata": {
    "colab": {
     "base_uri": "https://localhost:8080/",
     "height": 472
    },
    "id": "UX8qVgDhaChl",
    "outputId": "b9c486f2-70f1-4f9d-e4bc-2a3a15eda46a"
   },
   "outputs": [],
   "source": [
    "import torch\n",
    "\n",
    "# Instantiate the model\n",
    "model = CNN3D6()\n",
    "\n",
    "# Define the loss function and optimizer\n",
    "criterion = nn.CrossEntropyLoss()\n",
    "optimizer = optim.Adam(model.parameters(), lr=1e-4)\n",
    "\n",
    "s_epoch = -1\n",
    "\n",
    "# Initialize the loss arrays\n",
    "train_losses = []\n",
    "valid_losses = []\n",
    "valid_accuracy = []\n",
    "\n",
    "# Load the training data if needed\n",
    "model, optimizer, s_epoch, train_losses, valid_losses = load_checkpoint(model, optimizer, '/content/checkpoint(5).pth')\n",
    "\n",
    "import matplotlib.pyplot as plt\n",
    "\n",
    "# Plot training and validation loss\n",
    "plt.plot(train_losses, label='Training loss')\n",
    "plt.plot(valid_losses, label='Validation loss')\n",
    "plt.xlabel('Epoch')\n",
    "plt.ylabel('Loss')\n",
    "plt.title('Training and Validation Loss')\n",
    "plt.legend()\n",
    "plt.show()\n"
   ]
  },
  {
   "cell_type": "code",
   "execution_count": null,
   "metadata": {
    "colab": {
     "base_uri": "https://localhost:8080/"
    },
    "id": "t9PXWr0PdhtP",
    "outputId": "9c676f9d-acde-478a-93d5-a08f8e81da0b"
   },
   "outputs": [],
   "source": [
    "# Validation loop\n",
    "model.eval()  # Set the model to evaluation mode\n",
    "correct = 0\n",
    "total = 0\n",
    "\n",
    "with torch.no_grad():\n",
    "    for data, target in train_loader:\n",
    "        data, target = data.to(device), target.to(device)\n",
    "        output = model(data)\n",
    "        _, predicted = torch.max(output.data, 1)\n",
    "        total += target.size(0)\n",
    "        correct += (predicted == torch.argmax(target, dim=1)).sum().item()\n",
    "\n",
    "accuracy = correct / total\n",
    "print(f'Train Accuracy: {accuracy * 100:.2f}%')"
   ]
  },
  {
   "cell_type": "code",
   "execution_count": null,
   "metadata": {
    "id": "AhB2X_yoHsM0"
   },
   "outputs": [],
   "source": [
    "# _, _, e = load_checkpoint(model, optimizer, params_filename)"
   ]
  },
  {
   "cell_type": "markdown",
   "metadata": {
    "id": "4leyuXtRmwq3"
   },
   "source": [
    "# 5-fold validation"
   ]
  },
  {
   "cell_type": "code",
   "execution_count": null,
   "metadata": {
    "id": "SARSXHEOnE_X"
   },
   "outputs": [],
   "source": [
    "import torch\n",
    "import torch.nn as nn\n",
    "import torch.optim as optim\n",
    "import torch.nn.functional as F\n",
    "\n",
    "class CNN3D3(nn.Module):\n",
    "    def __init__(self):\n",
    "        super(CNN3D3, self).__init__()\n",
    "\n",
    "        self.conv1 = nn.Conv3d(1, 8, kernel_size=(3, 3, 3), stride=(1, 1, 1), padding=(1, 1, 1))\n",
    "        self.batch_norm1 = nn.BatchNorm3d(8)\n",
    "        self.pool1 = nn.MaxPool3d(kernel_size=(2, 2, 2), stride=(2, 2, 2))\n",
    "\n",
    "        self.conv2 = nn.Conv3d(8, 16, kernel_size=(3, 3, 3), stride=(1, 1, 1), padding=(1, 1, 1))\n",
    "        self.batch_norm2 = nn.BatchNorm3d(16)\n",
    "        self.pool2 = nn.MaxPool3d(kernel_size=(2, 2, 2), stride=(2, 2, 2))\n",
    "\n",
    "        self.conv3 = nn.Conv3d(16, 32, kernel_size=(3, 3, 3), stride=(1, 1, 1), padding=(1, 1, 1))\n",
    "        self.batch_norm3 = nn.BatchNorm3d(32)\n",
    "        self.pool3 = nn.MaxPool3d(kernel_size=(2, 2, 2), stride=(2, 2, 2))\n",
    "\n",
    "        self.flatten = nn.Flatten()\n",
    "        self.fc1 = nn.Linear(32 * 24 * 24 * 20, 32)\n",
    "        self.batch_norm_fc = nn.BatchNorm1d(32)\n",
    "        self.fc2 = nn.Linear(32, 3)\n",
    "\n",
    "    def forward(self, x):\n",
    "        x = self.pool1(F.relu(self.batch_norm1(self.conv1(x))))\n",
    "        x = self.pool2(F.relu(self.batch_norm2(self.conv2(x))))\n",
    "        x = self.pool3(F.relu(self.batch_norm3(self.conv3(x))))\n",
    "\n",
    "        x = self.flatten(x)\n",
    "        x = F.relu(self.batch_norm_fc(self.fc1(x)))\n",
    "        x = self.fc2(x)\n",
    "\n",
    "        return F.softmax(x, dim=1)"
   ]
  },
  {
   "cell_type": "code",
   "execution_count": null,
   "metadata": {
    "id": "lD2JTo91nRnQ"
   },
   "outputs": [],
   "source": [
    "import shutil\n",
    "import os"
   ]
  },
  {
   "cell_type": "code",
   "execution_count": null,
   "metadata": {
    "id": "hvjN8qe_nRnT"
   },
   "outputs": [],
   "source": [
    "def save_checkpoint(model, optimizer, epoch, filename):\n",
    "    checkpoint = {\n",
    "        'epoch': epoch,\n",
    "        'model_state_dict': model.state_dict(),\n",
    "        'optimizer_state_dict': optimizer.state_dict(),\n",
    "    }\n",
    "    torch.save(checkpoint, filename)\n",
    "    shutil.copyfile(filename, os.path.join('/content/drive/MyDrive/Checkpoints', filename))\n",
    "\n",
    "def load_checkpoint(model, optimizer, filename):\n",
    "    checkpoint = torch.load(filename)\n",
    "    model.load_state_dict(checkpoint['model_state_dict'])\n",
    "    optimizer.load_state_dict(checkpoint['optimizer_state_dict'])\n",
    "    epoch = checkpoint['epoch']\n",
    "    return model, optimizer, epoch\n"
   ]
  },
  {
   "cell_type": "code",
   "execution_count": null,
   "metadata": {
    "id": "YIjfvELym2nE"
   },
   "outputs": [],
   "source": [
    "def train(train_loader, test_loader):\n",
    "\n",
    "  device = torch.device('cuda') if torch.cuda.is_available() else torch.device('cpu')\n",
    "\n",
    "  # Instantiate the model\n",
    "  model = CNN3D3()\n",
    "  model.to(device)\n",
    "\n",
    "  # Define the loss function and optimizer\n",
    "  criterion = nn.CrossEntropyLoss()\n",
    "  optimizer = optim.Adam(model.parameters())\n",
    "\n",
    "  # Initialize the loss arrays\n",
    "  train_losses = []\n",
    "  valid_losses = []\n",
    "  valid_accuracy = []\n",
    "\n",
    "  # Number of training epochs\n",
    "  num_epochs = 25\n",
    "\n",
    "  # Training loop\n",
    "  for epoch in range(num_epochs):\n",
    "      model.train()  # Set the model to training mode\n",
    "\n",
    "      epoch_train_loss = 0\n",
    "\n",
    "      for batch_idx, (data, target) in enumerate(train_loader):\n",
    "          data, target = data.to(device), target.to(device)\n",
    "\n",
    "          optimizer.zero_grad()  # Zero the gradients\n",
    "\n",
    "          # Forward pass\n",
    "          output = model(data)\n",
    "\n",
    "          # Calculate the loss\n",
    "          loss = criterion(output, torch.argmax(target, dim=1))\n",
    "          epoch_train_loss += loss.item()\n",
    "\n",
    "          # Backward pass\n",
    "          loss.backward()\n",
    "\n",
    "          # Update weights\n",
    "          optimizer.step()\n",
    "\n",
    "          # Print training statistics\n",
    "          # if batch_idx % 10 == 0:\n",
    "          #     print(f'Epoch {epoch+1}/{num_epochs}, Batch {batch_idx+1}/{len(train_loader)}, Loss: {loss.item()}')\n",
    "\n",
    "      epoch_train_loss = epoch_train_loss / len(train_loader)\n",
    "\n",
    "      # Validation loop\n",
    "      model.eval()  # Set the model to evaluation mode\n",
    "      correct = 0\n",
    "      total = 0\n",
    "\n",
    "      epoch_valid_loss = 0\n",
    "\n",
    "      with torch.no_grad():\n",
    "          for data, target in test_loader:\n",
    "              data, target = data.to(device), target.to(device)\n",
    "              output = model(data)\n",
    "              _, predicted = torch.max(output.data, 1)\n",
    "              total += target.size(0)\n",
    "              correct += (predicted == torch.argmax(target, dim=1)).sum().item()\n",
    "              loss = criterion(output, torch.argmax(target, dim=1))\n",
    "              epoch_valid_loss += loss.item()\n",
    "\n",
    "      epoch_valid_loss = epoch_valid_loss / len(test_loader)\n",
    "\n",
    "      accuracy = correct / total\n",
    "      print(f'Validation Accuracy: {accuracy * 100:.2f}%')\n",
    "\n",
    "      train_losses.append(epoch_train_loss)\n",
    "      valid_losses.append(epoch_valid_loss)\n",
    "      valid_accuracy.append(accuracy)\n",
    "\n",
    "      # if epoch % 5 == 0:\n",
    "      #     save_checkpoint(model, optimizer, epoch, params_filename)\n",
    "\n",
    "  return train_losses, valid_losses, valid_accuracy"
   ]
  },
  {
   "cell_type": "code",
   "execution_count": null,
   "metadata": {
    "colab": {
     "base_uri": "https://localhost:8080/",
     "height": 1000
    },
    "id": "D1QY2H2LoDqK",
    "outputId": "7f22b23c-ef37-4320-b3de-f505fca05a81"
   },
   "outputs": [],
   "source": [
    "import torch\n",
    "from sklearn.model_selection import StratifiedKFold\n",
    "from torch.utils.data import Dataset\n",
    "from torchvision import transforms\n",
    "import nibabel as nib\n",
    "import numpy as np\n",
    "from sklearn.model_selection import train_test_split\n",
    "from sklearn.preprocessing import LabelEncoder\n",
    "import matplotlib.pyplot as plt\n",
    "\n",
    "# Assuming 'X' is a list of file paths to your images and 'y' is your labels\n",
    "X = images\n",
    "y = labels\n",
    "\n",
    "# Convert labels to one-hot encoding\n",
    "le = LabelEncoder()\n",
    "y_encoded = le.fit_transform(y)\n",
    "y_one_hot = torch.nn.functional.one_hot(torch.tensor(y_encoded), num_classes=3).float()\n",
    "\n",
    "# Create custom dataset\n",
    "class CustomDataset(Dataset):\n",
    "    def __init__(self, file_paths, labels, transform=None):\n",
    "        self.file_paths = file_paths\n",
    "        self.labels = labels\n",
    "        self.transform = transform\n",
    "\n",
    "    def __len__(self):\n",
    "        return len(self.file_paths)\n",
    "\n",
    "    def __getitem__(self, idx):\n",
    "        file_path = self.file_paths[idx]\n",
    "        label = self.labels[idx]\n",
    "\n",
    "        # Load NIfTI image\n",
    "        nifti_img = nib.load(file_path)\n",
    "\n",
    "        # Get the image data\n",
    "        img_data = nifti_img.get_fdata()\n",
    "\n",
    "        # Assuming the data is in a reasonable range, you may normalize it\n",
    "        img_data = img_data / 6482.063678255918\n",
    "\n",
    "        # Expand dimensions to add a channel (assuming grayscale images)\n",
    "        img_data = np.expand_dims(img_data, axis=0)\n",
    "\n",
    "        # Permute dimensions to match [batch_size, channels, depth, height, width]\n",
    "        img_data = torch.FloatTensor(img_data).permute(0, 3, 1, 2)\n",
    "\n",
    "        if self.transform:\n",
    "            img_data = self.transform(img_data)\n",
    "\n",
    "        return img_data, torch.FloatTensor(label)\n",
    "\n",
    "\n",
    "# Define the number of splits for k-fold cross-validation\n",
    "k = 5\n",
    "\n",
    "# Initialize StratifiedKFold\n",
    "skf = StratifiedKFold(n_splits=k, shuffle=True, random_state=42)\n",
    "\n",
    "# Initialize lists to store accuracies\n",
    "accuracies = []\n",
    "train_losses = []\n",
    "valid_losses = []\n",
    "\n",
    "# Iterate over each fold\n",
    "for fold_idx, (train_index, test_index) in enumerate(skf.split(X, y)):\n",
    "    print(f\"Fold {fold_idx + 1}/{k}\")\n",
    "\n",
    "    # Split data into train and test sets\n",
    "    X_train_fold, X_test_fold = np.array(X)[train_index], np.array(X)[test_index]\n",
    "    y_train_fold, y_test_fold = y_one_hot[train_index], y_one_hot[test_index]\n",
    "\n",
    "    # Create custom datasets\n",
    "    train_dataset = CustomDataset(file_paths=X_train_fold, labels=y_train_fold)\n",
    "    test_dataset = CustomDataset(file_paths=X_test_fold, labels=y_test_fold)\n",
    "\n",
    "    # Create data loaders\n",
    "    batch_size = 8\n",
    "    train_loader = torch.utils.data.DataLoader(train_dataset, batch_size=batch_size, shuffle=True, drop_last=True)\n",
    "    test_loader = torch.utils.data.DataLoader(test_dataset, batch_size=batch_size, shuffle=False, drop_last=True)\n",
    "\n",
    "    # Train and evaluate your model here\n",
    "    train_loss, valid_loss, valid_accuracy = train(train_loader, test_loader)\n",
    "\n",
    "    # Store accuracy for this fold\n",
    "    train_losses.append(train_loss)\n",
    "    valid_losses.append(valid_loss)\n",
    "    accuracies.append(valid_accuracy)\n",
    "\n",
    "\n",
    "    # Plot training and validation loss\n",
    "    plt.plot(train_loss, label='Training loss')\n",
    "    plt.plot(valid_loss, label='Validation loss')\n",
    "    plt.xlabel('Epoch')\n",
    "    plt.ylabel('Loss')\n",
    "    plt.title(f'Training and Validation Loss, Fold {fold_idx + 1}')\n",
    "    plt.legend()\n",
    "    plt.show()\n",
    "\n",
    "# Calculate average accuracy across all folds\n",
    "avg_accuracy = np.mean(accuracies)\n",
    "print(f\"Average accuracy: {avg_accuracy}\")"
   ]
  },
  {
   "cell_type": "markdown",
   "metadata": {
    "id": "OXvRjerWxRkI"
   },
   "source": [
    "# playground"
   ]
  },
  {
   "cell_type": "code",
   "execution_count": null,
   "metadata": {
    "colab": {
     "base_uri": "https://localhost:8080/",
     "height": 69
    },
    "id": "m7ByM18kxUsD",
    "outputId": "06e9e99a-22d1-47b2-a09d-798b06cd59c1"
   },
   "outputs": [],
   "source": [
    "images[0]"
   ]
  },
  {
   "cell_type": "code",
   "execution_count": null,
   "metadata": {
    "id": "tGip4Ak4xXZq"
   },
   "outputs": [],
   "source": [
    "mkdir temp"
   ]
  },
  {
   "cell_type": "code",
   "execution_count": null,
   "metadata": {
    "id": "Ka2Qc1iyxZCV"
   },
   "outputs": [],
   "source": [
    "cp ADNI/${images[0]} ./temp/"
   ]
  },
  {
   "cell_type": "code",
   "execution_count": null,
   "metadata": {
    "colab": {
     "base_uri": "https://localhost:8080/"
    },
    "id": "sdZuMVgyxwH9",
    "outputId": "be079cdb-d7a9-41fd-e37f-76028c772c98"
   },
   "outputs": [],
   "source": [
    "cd temp"
   ]
  },
  {
   "cell_type": "code",
   "execution_count": null,
   "metadata": {
    "id": "BxYsE-7VxQ15"
   },
   "outputs": [],
   "source": [
    "from PIL import Image\n",
    "import tensorflow as tf\n",
    "\n",
    "def load_file(filename):\n",
    "  return tf.constant(np.array(Image.open(filename.numpy()).convert(\"L\")))\n",
    "\n",
    "ds = tf.data.Dataset.list_files(\"*.png\")\n",
    "ds_map = ds.map(lambda x: tf.py_function(load_file, [x], [tf.uint8]))"
   ]
  },
  {
   "cell_type": "code",
   "execution_count": null,
   "metadata": {
    "colab": {
     "base_uri": "https://localhost:8080/"
    },
    "id": "HRUqW5ipyJjE",
    "outputId": "7aa14cbd-259b-454d-ce69-76025bb956d7"
   },
   "outputs": [],
   "source": [
    "list(iter(ds))[0]"
   ]
  },
  {
   "cell_type": "code",
   "execution_count": null,
   "metadata": {
    "id": "RxX7jYJPyVCs"
   },
   "outputs": [],
   "source": [
    "ds_map = ds.map(lambda x: tf.py_function(load_file, [x], [tf.uint8]))"
   ]
  },
  {
   "cell_type": "code",
   "execution_count": null,
   "metadata": {
    "colab": {
     "base_uri": "https://localhost:8080/"
    },
    "id": "q6zbjXuLyV5i",
    "outputId": "db868be4-b8c2-4078-fed8-834556ae4d18"
   },
   "outputs": [],
   "source": [
    "list(iter(ds_map))[0]"
   ]
  },
  {
   "cell_type": "code",
   "execution_count": null,
   "metadata": {
    "colab": {
     "base_uri": "https://localhost:8080/",
     "height": 35
    },
    "id": "hgF7bt8d1Meo",
    "outputId": "d51308d8-b01a-4ef8-8505-06629f9ad6b9"
   },
   "outputs": [],
   "source": [
    "bytes([68, 68, 69]).decode('utf-8')"
   ]
  }
 ],
 "metadata": {
  "accelerator": "GPU",
  "colab": {
   "collapsed_sections": [
    "BDsCOZxI4FWd",
    "4leyuXtRmwq3",
    "OXvRjerWxRkI"
   ],
   "gpuType": "T4",
   "provenance": []
  },
  "kernelspec": {
   "display_name": "Python 3 (ipykernel)",
   "language": "python",
   "name": "python3"
  },
  "language_info": {
   "codemirror_mode": {
    "name": "ipython",
    "version": 3
   },
   "file_extension": ".py",
   "mimetype": "text/x-python",
   "name": "python",
   "nbconvert_exporter": "python",
   "pygments_lexer": "ipython3",
   "version": "3.10.12"
  }
 },
 "nbformat": 4,
 "nbformat_minor": 4
}
