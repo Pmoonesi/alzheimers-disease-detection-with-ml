{
 "cells": [
  {
   "cell_type": "code",
   "execution_count": 1,
   "id": "671078f1-679d-4d7b-befb-d71a9d2cb724",
   "metadata": {},
   "outputs": [],
   "source": [
    "import pandas as pd"
   ]
  },
  {
   "cell_type": "code",
   "execution_count": 27,
   "id": "77cb5a06-8adc-4cc1-ab94-f6b0f4763729",
   "metadata": {},
   "outputs": [],
   "source": [
    "df = pd.read_csv('../ADNI1_Complete_3Yr_1.5T_4_09_2024.csv')"
   ]
  },
  {
   "cell_type": "code",
   "execution_count": 28,
   "id": "2bfd9518-5fa9-4493-940f-a086bbb1c321",
   "metadata": {},
   "outputs": [
    {
     "data": {
      "text/plain": [
       "2182"
      ]
     },
     "execution_count": 28,
     "metadata": {},
     "output_type": "execute_result"
    }
   ],
   "source": [
    "len(df)"
   ]
  },
  {
   "cell_type": "code",
   "execution_count": 29,
   "id": "d41784fb-6023-4822-97c6-bcbdf3597b6b",
   "metadata": {},
   "outputs": [],
   "source": [
    "df = df.query('Description in [\"MPR-R; GradWarp; B1 Correction; N3; Scaled\", \"MPR; GradWarp; B1 Correction; N3; Scaled\"]').query('Visit in [\"sc\", \"m06\", \"m12\", \"m18\", \"m24\", \"m36\"]').reset_index(drop=True)"
   ]
  },
  {
   "cell_type": "code",
   "execution_count": 30,
   "id": "3eacd9d9-64ca-4a07-8281-8c132539afdb",
   "metadata": {},
   "outputs": [
    {
     "data": {
      "text/plain": [
       "1534"
      ]
     },
     "execution_count": 30,
     "metadata": {},
     "output_type": "execute_result"
    }
   ],
   "source": [
    "len(df)"
   ]
  },
  {
   "cell_type": "code",
   "execution_count": 31,
   "id": "0584a779-68a1-4df2-9e45-616360993d28",
   "metadata": {},
   "outputs": [
    {
     "data": {
      "text/html": [
       "<div>\n",
       "<style scoped>\n",
       "    .dataframe tbody tr th:only-of-type {\n",
       "        vertical-align: middle;\n",
       "    }\n",
       "\n",
       "    .dataframe tbody tr th {\n",
       "        vertical-align: top;\n",
       "    }\n",
       "\n",
       "    .dataframe thead th {\n",
       "        text-align: right;\n",
       "    }\n",
       "</style>\n",
       "<table border=\"1\" class=\"dataframe\">\n",
       "  <thead>\n",
       "    <tr style=\"text-align: right;\">\n",
       "      <th></th>\n",
       "      <th>Image Data ID</th>\n",
       "      <th>Subject</th>\n",
       "      <th>Group</th>\n",
       "      <th>Sex</th>\n",
       "      <th>Age</th>\n",
       "      <th>Visit</th>\n",
       "      <th>Modality</th>\n",
       "      <th>Description</th>\n",
       "      <th>Type</th>\n",
       "      <th>Acq Date</th>\n",
       "      <th>Format</th>\n",
       "      <th>Downloaded</th>\n",
       "    </tr>\n",
       "  </thead>\n",
       "  <tbody>\n",
       "    <tr>\n",
       "      <th>0</th>\n",
       "      <td>I122954</td>\n",
       "      <td>027_S_0644</td>\n",
       "      <td>MCI</td>\n",
       "      <td>M</td>\n",
       "      <td>77</td>\n",
       "      <td>m24</td>\n",
       "      <td>MRI</td>\n",
       "      <td>MPR; GradWarp; B1 Correction; N3; Scaled</td>\n",
       "      <td>Processed</td>\n",
       "      <td>6/25/2008</td>\n",
       "      <td>NiFTI</td>\n",
       "      <td>1/05/2024</td>\n",
       "    </tr>\n",
       "    <tr>\n",
       "      <th>1</th>\n",
       "      <td>I36979</td>\n",
       "      <td>036_S_0813</td>\n",
       "      <td>CN</td>\n",
       "      <td>M</td>\n",
       "      <td>73</td>\n",
       "      <td>sc</td>\n",
       "      <td>MRI</td>\n",
       "      <td>MPR; GradWarp; B1 Correction; N3; Scaled</td>\n",
       "      <td>Processed</td>\n",
       "      <td>8/25/2006</td>\n",
       "      <td>NiFTI</td>\n",
       "      <td>3/06/2024</td>\n",
       "    </tr>\n",
       "    <tr>\n",
       "      <th>2</th>\n",
       "      <td>I74591</td>\n",
       "      <td>005_S_0814</td>\n",
       "      <td>AD</td>\n",
       "      <td>F</td>\n",
       "      <td>71</td>\n",
       "      <td>sc</td>\n",
       "      <td>MRI</td>\n",
       "      <td>MPR; GradWarp; B1 Correction; N3; Scaled</td>\n",
       "      <td>Processed</td>\n",
       "      <td>8/30/2006</td>\n",
       "      <td>NiFTI</td>\n",
       "      <td>3/06/2024</td>\n",
       "    </tr>\n",
       "    <tr>\n",
       "      <th>3</th>\n",
       "      <td>I200471</td>\n",
       "      <td>011_S_1282</td>\n",
       "      <td>MCI</td>\n",
       "      <td>F</td>\n",
       "      <td>80</td>\n",
       "      <td>m36</td>\n",
       "      <td>MRI</td>\n",
       "      <td>MPR; GradWarp; B1 Correction; N3; Scaled</td>\n",
       "      <td>Processed</td>\n",
       "      <td>2/24/2010</td>\n",
       "      <td>NiFTI</td>\n",
       "      <td>1/05/2024</td>\n",
       "    </tr>\n",
       "    <tr>\n",
       "      <th>4</th>\n",
       "      <td>I67668</td>\n",
       "      <td>005_S_0602</td>\n",
       "      <td>CN</td>\n",
       "      <td>M</td>\n",
       "      <td>72</td>\n",
       "      <td>m06</td>\n",
       "      <td>MRI</td>\n",
       "      <td>MPR; GradWarp; B1 Correction; N3; Scaled</td>\n",
       "      <td>Processed</td>\n",
       "      <td>1/17/2007</td>\n",
       "      <td>NiFTI</td>\n",
       "      <td>3/06/2024</td>\n",
       "    </tr>\n",
       "    <tr>\n",
       "      <th>...</th>\n",
       "      <td>...</td>\n",
       "      <td>...</td>\n",
       "      <td>...</td>\n",
       "      <td>...</td>\n",
       "      <td>...</td>\n",
       "      <td>...</td>\n",
       "      <td>...</td>\n",
       "      <td>...</td>\n",
       "      <td>...</td>\n",
       "      <td>...</td>\n",
       "      <td>...</td>\n",
       "      <td>...</td>\n",
       "    </tr>\n",
       "    <tr>\n",
       "      <th>1529</th>\n",
       "      <td>I73037</td>\n",
       "      <td>006_S_1130</td>\n",
       "      <td>MCI</td>\n",
       "      <td>F</td>\n",
       "      <td>72</td>\n",
       "      <td>m06</td>\n",
       "      <td>MRI</td>\n",
       "      <td>MPR-R; GradWarp; B1 Correction; N3; Scaled</td>\n",
       "      <td>Processed</td>\n",
       "      <td>7/18/2007</td>\n",
       "      <td>NiFTI</td>\n",
       "      <td>3/06/2024</td>\n",
       "    </tr>\n",
       "    <tr>\n",
       "      <th>1530</th>\n",
       "      <td>I47036</td>\n",
       "      <td>027_S_0116</td>\n",
       "      <td>MCI</td>\n",
       "      <td>M</td>\n",
       "      <td>80</td>\n",
       "      <td>m12</td>\n",
       "      <td>MRI</td>\n",
       "      <td>MPR-R; GradWarp; B1 Correction; N3; Scaled</td>\n",
       "      <td>Processed</td>\n",
       "      <td>2/07/2007</td>\n",
       "      <td>NiFTI</td>\n",
       "      <td>3/06/2024</td>\n",
       "    </tr>\n",
       "    <tr>\n",
       "      <th>1531</th>\n",
       "      <td>I73642</td>\n",
       "      <td>041_S_1418</td>\n",
       "      <td>MCI</td>\n",
       "      <td>M</td>\n",
       "      <td>82</td>\n",
       "      <td>sc</td>\n",
       "      <td>MRI</td>\n",
       "      <td>MPR-R; GradWarp; B1 Correction; N3; Scaled</td>\n",
       "      <td>Processed</td>\n",
       "      <td>7/27/2007</td>\n",
       "      <td>NiFTI</td>\n",
       "      <td>3/06/2024</td>\n",
       "    </tr>\n",
       "    <tr>\n",
       "      <th>1532</th>\n",
       "      <td>I104489</td>\n",
       "      <td>005_S_0221</td>\n",
       "      <td>AD</td>\n",
       "      <td>M</td>\n",
       "      <td>70</td>\n",
       "      <td>m24</td>\n",
       "      <td>MRI</td>\n",
       "      <td>MPR-R; GradWarp; B1 Correction; N3; Scaled</td>\n",
       "      <td>Processed</td>\n",
       "      <td>4/24/2008</td>\n",
       "      <td>NiFTI</td>\n",
       "      <td>NaN</td>\n",
       "    </tr>\n",
       "    <tr>\n",
       "      <th>1533</th>\n",
       "      <td>I122662</td>\n",
       "      <td>006_S_1130</td>\n",
       "      <td>MCI</td>\n",
       "      <td>F</td>\n",
       "      <td>73</td>\n",
       "      <td>m18</td>\n",
       "      <td>MRI</td>\n",
       "      <td>MPR-R; GradWarp; B1 Correction; N3; Scaled</td>\n",
       "      <td>Processed</td>\n",
       "      <td>8/28/2008</td>\n",
       "      <td>NiFTI</td>\n",
       "      <td>NaN</td>\n",
       "    </tr>\n",
       "  </tbody>\n",
       "</table>\n",
       "<p>1534 rows × 12 columns</p>\n",
       "</div>"
      ],
      "text/plain": [
       "     Image Data ID     Subject Group Sex  Age Visit Modality  \\\n",
       "0          I122954  027_S_0644   MCI   M   77   m24      MRI   \n",
       "1           I36979  036_S_0813    CN   M   73    sc      MRI   \n",
       "2           I74591  005_S_0814    AD   F   71    sc      MRI   \n",
       "3          I200471  011_S_1282   MCI   F   80   m36      MRI   \n",
       "4           I67668  005_S_0602    CN   M   72   m06      MRI   \n",
       "...            ...         ...   ...  ..  ...   ...      ...   \n",
       "1529        I73037  006_S_1130   MCI   F   72   m06      MRI   \n",
       "1530        I47036  027_S_0116   MCI   M   80   m12      MRI   \n",
       "1531        I73642  041_S_1418   MCI   M   82    sc      MRI   \n",
       "1532       I104489  005_S_0221    AD   M   70   m24      MRI   \n",
       "1533       I122662  006_S_1130   MCI   F   73   m18      MRI   \n",
       "\n",
       "                                     Description       Type   Acq Date Format  \\\n",
       "0       MPR; GradWarp; B1 Correction; N3; Scaled  Processed  6/25/2008  NiFTI   \n",
       "1       MPR; GradWarp; B1 Correction; N3; Scaled  Processed  8/25/2006  NiFTI   \n",
       "2       MPR; GradWarp; B1 Correction; N3; Scaled  Processed  8/30/2006  NiFTI   \n",
       "3       MPR; GradWarp; B1 Correction; N3; Scaled  Processed  2/24/2010  NiFTI   \n",
       "4       MPR; GradWarp; B1 Correction; N3; Scaled  Processed  1/17/2007  NiFTI   \n",
       "...                                          ...        ...        ...    ...   \n",
       "1529  MPR-R; GradWarp; B1 Correction; N3; Scaled  Processed  7/18/2007  NiFTI   \n",
       "1530  MPR-R; GradWarp; B1 Correction; N3; Scaled  Processed  2/07/2007  NiFTI   \n",
       "1531  MPR-R; GradWarp; B1 Correction; N3; Scaled  Processed  7/27/2007  NiFTI   \n",
       "1532  MPR-R; GradWarp; B1 Correction; N3; Scaled  Processed  4/24/2008  NiFTI   \n",
       "1533  MPR-R; GradWarp; B1 Correction; N3; Scaled  Processed  8/28/2008  NiFTI   \n",
       "\n",
       "     Downloaded  \n",
       "0     1/05/2024  \n",
       "1     3/06/2024  \n",
       "2     3/06/2024  \n",
       "3     1/05/2024  \n",
       "4     3/06/2024  \n",
       "...         ...  \n",
       "1529  3/06/2024  \n",
       "1530  3/06/2024  \n",
       "1531  3/06/2024  \n",
       "1532        NaN  \n",
       "1533        NaN  \n",
       "\n",
       "[1534 rows x 12 columns]"
      ]
     },
     "execution_count": 31,
     "metadata": {},
     "output_type": "execute_result"
    }
   ],
   "source": [
    "df"
   ]
  },
  {
   "cell_type": "markdown",
   "id": "6035719f-1f83-4681-b50f-6976f69d2b40",
   "metadata": {},
   "source": [
    "# Datasets"
   ]
  },
  {
   "cell_type": "code",
   "execution_count": 7,
   "id": "87a65057-de1e-4db1-9cb5-fcebfc67f3fe",
   "metadata": {},
   "outputs": [],
   "source": [
    "from sklearn.model_selection import train_test_split"
   ]
  },
  {
   "cell_type": "markdown",
   "id": "7901306d-7695-4f83-9fe3-ba61891451bf",
   "metadata": {},
   "source": [
    "## CNN - pretrain"
   ]
  },
  {
   "cell_type": "code",
   "execution_count": 57,
   "id": "0deca0da-85f7-456a-97e9-1ef3f4bed2fe",
   "metadata": {},
   "outputs": [],
   "source": [
    "Subjects, Groups = df[['Subject', 'Group']].drop_duplicates(['Subject']).T.to_numpy()"
   ]
  },
  {
   "cell_type": "code",
   "execution_count": 69,
   "id": "14252534-bf90-42b2-8038-3f1a94df27b2",
   "metadata": {},
   "outputs": [],
   "source": [
    "train_subjects, test_subjects = train_test_split(Subjects, test_size=0.1, random_state=22, stratify=Groups)"
   ]
  },
  {
   "cell_type": "code",
   "execution_count": 83,
   "id": "f8132f94-1937-4592-aa3f-ed7d92330e73",
   "metadata": {},
   "outputs": [],
   "source": [
    "train_df = df[df['Subject'].isin(train_subjects)][['Image Data ID','Group']]"
   ]
  },
  {
   "cell_type": "code",
   "execution_count": 84,
   "id": "8e4fb651-5f0b-4583-9d1a-a105a6334b15",
   "metadata": {},
   "outputs": [],
   "source": [
    "train_images, train_labels = train_df.T.to_numpy()"
   ]
  },
  {
   "cell_type": "code",
   "execution_count": 85,
   "id": "be213eb0-e26c-40ff-9a8c-9bac88849537",
   "metadata": {},
   "outputs": [],
   "source": [
    "test_df = df[df['Subject'].isin(test_subjects)][['Image Data ID','Group']]"
   ]
  },
  {
   "cell_type": "code",
   "execution_count": 86,
   "id": "c7d5df7a-ceaf-4ea8-b2be-518c1c34e6a8",
   "metadata": {},
   "outputs": [],
   "source": [
    "test_images, test_labels = test_df.T.to_numpy()"
   ]
  },
  {
   "cell_type": "code",
   "execution_count": 89,
   "id": "472327c6-abb6-409e-b0fe-c8cc898e7500",
   "metadata": {},
   "outputs": [
    {
     "data": {
      "text/plain": [
       "1534"
      ]
     },
     "execution_count": 89,
     "metadata": {},
     "output_type": "execute_result"
    }
   ],
   "source": [
    "len(test_images) + len(train_images)"
   ]
  },
  {
   "cell_type": "markdown",
   "id": "60c7a38a-f717-47bb-b72c-8f6aba63dd15",
   "metadata": {},
   "source": [
    "## CNN - finetune"
   ]
  },
  {
   "cell_type": "code",
   "execution_count": 197,
   "id": "32b6f549-3bf0-4570-af0d-0bf0d277dbba",
   "metadata": {},
   "outputs": [
    {
     "data": {
      "text/plain": [
       "sc     302\n",
       "m06    301\n",
       "m12    301\n",
       "m24    299\n",
       "m36    215\n",
       "m18    116\n",
       "Name: Visit, dtype: int64"
      ]
     },
     "execution_count": 197,
     "metadata": {},
     "output_type": "execute_result"
    }
   ],
   "source": [
    "df['Visit'].value_counts()"
   ]
  },
  {
   "cell_type": "code",
   "execution_count": 198,
   "id": "b7e5d371-4432-41de-b3e2-f7a356583bc9",
   "metadata": {},
   "outputs": [],
   "source": [
    "time='sc'\n",
    "\n",
    "time_df = df[df['Visit'] == time]"
   ]
  },
  {
   "cell_type": "code",
   "execution_count": 199,
   "id": "20575164-3c09-465a-8a85-5507b27c25df",
   "metadata": {},
   "outputs": [
    {
     "data": {
      "text/plain": [
       "302"
      ]
     },
     "execution_count": 199,
     "metadata": {},
     "output_type": "execute_result"
    }
   ],
   "source": [
    "Subjects, Groups = time_df[['Subject', 'Group']].drop_duplicates(['Subject']).T.to_numpy()\n",
    "\n",
    "train_subjects, test_subjects = train_test_split(Subjects, test_size=0.1, random_state=22, stratify=Groups)\n",
    "\n",
    "train_df = time_df[time_df['Subject'].isin(train_subjects)][['Image Data ID','Group']]\n",
    "train_images, train_labels = train_df.T.to_numpy()\n",
    "\n",
    "test_df = time_df[time_df['Subject'].isin(test_subjects)][['Image Data ID','Group']]\n",
    "test_images, test_labels = test_df.T.to_numpy()\n",
    "\n",
    "len(test_images) + len(train_images)"
   ]
  },
  {
   "cell_type": "markdown",
   "id": "c0df1748-68e9-4632-a69a-cbb012b5457d",
   "metadata": {},
   "source": [
    "## Whole Network"
   ]
  },
  {
   "cell_type": "code",
   "execution_count": 201,
   "id": "c089e240-d6d7-4cb7-b3f7-d117fd786de8",
   "metadata": {},
   "outputs": [],
   "source": [
    "Subjects, Groups = df[['Subject', 'Group']].drop_duplicates(['Subject']).T.to_numpy()"
   ]
  },
  {
   "cell_type": "code",
   "execution_count": 202,
   "id": "11f2c13b-ac40-4ffd-9080-b1a6fbaa559e",
   "metadata": {},
   "outputs": [],
   "source": [
    "train_subjects, test_subjects = train_test_split(Subjects, test_size=0.1, random_state=22, stratify=Groups)"
   ]
  },
  {
   "cell_type": "code",
   "execution_count": 203,
   "id": "347829df-c043-4859-9722-d7a9faf13452",
   "metadata": {},
   "outputs": [],
   "source": [
    "def reorder_images(group):\n",
    "    order_mapping = {'sc': 0, 'm06': 1, 'm12': 2, 'm18': 3, 'm24': 4, 'm36': 5}\n",
    "    result = [None] * 6\n",
    "    for index, row in group.iterrows():\n",
    "        result[order_mapping[row['Visit']]] = row['Image Data ID']\n",
    "    return result"
   ]
  },
  {
   "cell_type": "code",
   "execution_count": 212,
   "id": "dc2523be-2571-4b58-b349-1f8aba1f8992",
   "metadata": {},
   "outputs": [],
   "source": [
    "train_imagelist = df[df['Subject'].isin(train_subjects)].groupby('Subject')[['Visit', 'Image Data ID']].apply(reorder_images).rename('ImageIDs')"
   ]
  },
  {
   "cell_type": "code",
   "execution_count": 213,
   "id": "6c1e3695-ea22-4fa2-a741-92f31ed48c01",
   "metadata": {},
   "outputs": [],
   "source": [
    "train_df = df[['Subject', 'Group']].drop_duplicates(['Subject']).merge(train_imagelist, left_on='Subject',right_index=True)[['ImageIDs', 'Group']]"
   ]
  },
  {
   "cell_type": "code",
   "execution_count": 214,
   "id": "36187818-d4b0-4658-a9c2-2670860dee34",
   "metadata": {},
   "outputs": [],
   "source": [
    "train_imagelist, train_labels = train_df.T.to_numpy()"
   ]
  },
  {
   "cell_type": "code",
   "execution_count": 216,
   "id": "9f7363c0-6d3d-47b5-bb24-65e7e7c0d5e2",
   "metadata": {},
   "outputs": [],
   "source": [
    "test_imagelist = df[df['Subject'].isin(test_subjects)].groupby('Subject')[['Visit', 'Image Data ID']].apply(reorder_images).rename('ImageIDs')\n",
    "test_df = df[['Subject', 'Group']].drop_duplicates(['Subject']).merge(test_imagelist, left_on='Subject',right_index=True)[['ImageIDs', 'Group']]\n",
    "test_imagelist, test_labels = test_df.T.to_numpy()"
   ]
  },
  {
   "cell_type": "code",
   "execution_count": 217,
   "id": "96e131b3-613d-4c04-a6c0-bfcdaf232157",
   "metadata": {},
   "outputs": [
    {
     "data": {
      "text/plain": [
       "303"
      ]
     },
     "execution_count": 217,
     "metadata": {},
     "output_type": "execute_result"
    }
   ],
   "source": [
    "len(train_imagelist) + len(test_imagelist)"
   ]
  }
 ],
 "metadata": {
  "kernelspec": {
   "display_name": "Python 3 (ipykernel)",
   "language": "python",
   "name": "python3"
  },
  "language_info": {
   "codemirror_mode": {
    "name": "ipython",
    "version": 3
   },
   "file_extension": ".py",
   "mimetype": "text/x-python",
   "name": "python",
   "nbconvert_exporter": "python",
   "pygments_lexer": "ipython3",
   "version": "3.10.12"
  }
 },
 "nbformat": 4,
 "nbformat_minor": 5
}
