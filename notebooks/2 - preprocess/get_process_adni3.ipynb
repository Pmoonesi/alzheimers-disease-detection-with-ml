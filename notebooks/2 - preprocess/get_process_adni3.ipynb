{
  "cells": [
    {
      "cell_type": "code",
      "execution_count": null,
      "metadata": {
        "colab": {
          "base_uri": "https://localhost:8080/"
        },
        "id": "MHnsQeLri_nW",
        "outputId": "672631e9-a3a9-4179-9e1a-cc52e257032c"
      },
      "outputs": [
        {
          "name": "stdout",
          "output_type": "stream",
          "text": [
            "Mounted at /content/drive\n"
          ]
        }
      ],
      "source": [
        "from google.colab import drive\n",
        "drive.mount('/content/drive')"
      ]
    },
    {
      "cell_type": "markdown",
      "metadata": {
        "id": "jCYIQmKHP9jm"
      },
      "source": [
        "# Download / copy and extract the data"
      ]
    },
    {
      "cell_type": "code",
      "execution_count": null,
      "metadata": {
        "id": "twRaGEdO4q7a"
      },
      "outputs": [],
      "source": [
        "# !cp -r drive/MyDrive/Data/OASIS2/raw/* .\n",
        "!ls drive/MyDrive/Data/ADNI3-Full-3T/raw-dicom | head -n 9 | tail -n 5 | xargs -I fname cp drive/MyDrive/Data/ADNI3-Full-3T/raw-dicom/fname ."
      ]
    },
    {
      "cell_type": "code",
      "execution_count": null,
      "metadata": {
        "id": "WPm2EDha5oCH"
      },
      "outputs": [],
      "source": [
        "!ls | grep 'tar.gz' | while read arch; do tar -xzf $arch; done"
      ]
    },
    {
      "cell_type": "code",
      "execution_count": null,
      "metadata": {
        "colab": {
          "base_uri": "https://localhost:8080/"
        },
        "id": "bcCBpH01IJUL",
        "outputId": "be2198bc-eecc-4cdc-8eb6-faf83c1b1430"
      },
      "outputs": [
        {
          "name": "stdout",
          "output_type": "stream",
          "text": [
            "1210\n"
          ]
        }
      ],
      "source": [
        "!find nifties -name '*.nii.gz' | wc -l"
      ]
    },
    {
      "cell_type": "markdown",
      "metadata": {
        "id": "_okZDT94Qdne"
      },
      "source": [
        "# installing the dependencies"
      ]
    },
    {
      "cell_type": "markdown",
      "metadata": {
        "id": "AGylcGm25OOI"
      },
      "source": [
        "### fsl"
      ]
    },
    {
      "cell_type": "code",
      "execution_count": null,
      "metadata": {
        "colab": {
          "base_uri": "https://localhost:8080/"
        },
        "id": "bpda3xDeQgTY",
        "outputId": "fe7d0056-1061-402c-c36e-8e76bd26fedc"
      },
      "outputs": [
        {
          "name": "stdout",
          "output_type": "stream",
          "text": [
            "Collecting nipype\n",
            "  Downloading nipype-1.8.6-py3-none-any.whl (3.2 MB)\n",
            "\u001b[?25l     \u001b[90m━━━━━━━━━━━━━━━━━━━━━━━━━━━━━━━━━━━━━━━━\u001b[0m \u001b[32m0.0/3.2 MB\u001b[0m \u001b[31m?\u001b[0m eta \u001b[36m-:--:--\u001b[0m\r\u001b[2K     \u001b[91m━\u001b[0m\u001b[91m╸\u001b[0m\u001b[90m━━━━━━━━━━━━━━━━━━━━━━━━━━━━━━━━━━━━━━\u001b[0m \u001b[32m0.1/3.2 MB\u001b[0m \u001b[31m4.1 MB/s\u001b[0m eta \u001b[36m0:00:01\u001b[0m\r\u001b[2K     \u001b[91m━━━━━━━━━━━━━━━━\u001b[0m\u001b[90m╺\u001b[0m\u001b[90m━━━━━━━━━━━━━━━━━━━━━━━\u001b[0m \u001b[32m1.3/3.2 MB\u001b[0m \u001b[31m19.2 MB/s\u001b[0m eta \u001b[36m0:00:01\u001b[0m\r\u001b[2K     \u001b[91m━━━━━━━━━━━━━━━━━━━━━━━━━━━━━━━━━━━━━━━\u001b[0m\u001b[91m╸\u001b[0m \u001b[32m3.2/3.2 MB\u001b[0m \u001b[31m36.8 MB/s\u001b[0m eta \u001b[36m0:00:01\u001b[0m\r\u001b[2K     \u001b[90m━━━━━━━━━━━━━━━━━━━━━━━━━━━━━━━━━━━━━━━━\u001b[0m \u001b[32m3.2/3.2 MB\u001b[0m \u001b[31m29.8 MB/s\u001b[0m eta \u001b[36m0:00:00\u001b[0m\n",
            "\u001b[?25hRequirement already satisfied: click>=6.6.0 in /usr/local/lib/python3.10/dist-packages (from nipype) (8.1.7)\n",
            "Requirement already satisfied: networkx>=2.0 in /usr/local/lib/python3.10/dist-packages (from nipype) (3.3)\n",
            "Requirement already satisfied: nibabel>=2.1.0 in /usr/local/lib/python3.10/dist-packages (from nipype) (4.0.2)\n",
            "Requirement already satisfied: numpy>=1.17 in /usr/local/lib/python3.10/dist-packages (from nipype) (1.25.2)\n",
            "Requirement already satisfied: packaging in /usr/local/lib/python3.10/dist-packages (from nipype) (24.0)\n",
            "\u001b[31mERROR: Operation cancelled by user\u001b[0m\u001b[31m\n",
            "\u001b[0m"
          ]
        }
      ],
      "source": [
        "!pip install nipype"
      ]
    },
    {
      "cell_type": "code",
      "execution_count": null,
      "metadata": {
        "colab": {
          "base_uri": "https://localhost:8080/"
        },
        "id": "5J7LcRkwg140",
        "outputId": "80ee72ee-dd89-46b1-ba23-7bc2a47f9d34"
      },
      "outputs": [
        {
          "name": "stdout",
          "output_type": "stream",
          "text": [
            "Reading package lists... Done\n",
            "Building dependency tree... Done\n",
            "Reading state information... Done\n",
            "The following NEW packages will be installed:\n",
            "  bc\n",
            "0 upgraded, 1 newly installed, 0 to remove and 45 not upgraded.\n",
            "Need to get 87.6 kB of archives.\n",
            "After this operation, 220 kB of additional disk space will be used.\n",
            "0% [Waiting for headers]\u001b[0m^C\n"
          ]
        }
      ],
      "source": [
        "!sudo apt install bc"
      ]
    },
    {
      "cell_type": "code",
      "execution_count": null,
      "metadata": {
        "colab": {
          "base_uri": "https://localhost:8080/"
        },
        "id": "IMW4EMBBg-P2",
        "outputId": "e74e0e52-be64-4cff-9ab8-8d12d718f3f9"
      },
      "outputs": [
        {
          "name": "stdout",
          "output_type": "stream",
          "text": [
            "Reading package lists... Done\n",
            "Building dependency tree... Done\n",
            "Reading state information... Done\n",
            "The following NEW packages will be installed:\n",
            "  dc\n",
            "0 upgraded, 1 newly installed, 0 to remove and 45 not upgraded.\n",
            "Need to get 49.5 kB of archives.\n",
            "After this operation, 130 kB of additional disk space will be used.\n",
            "0% [Working]\u001b[0m"
          ]
        }
      ],
      "source": [
        "!sudo apt install dc"
      ]
    },
    {
      "cell_type": "code",
      "execution_count": null,
      "metadata": {
        "id": "7NehPkA2WRn3"
      },
      "outputs": [],
      "source": [
        "!wget https://fsl.fmrib.ox.ac.uk/fsldownloads/fslconda/releases/fslinstaller.py"
      ]
    },
    {
      "cell_type": "code",
      "execution_count": null,
      "metadata": {
        "id": "Zy9Mkxe6WhBY"
      },
      "outputs": [],
      "source": [
        "!python fslinstaller.py --dest /usr/local/fsl"
      ]
    },
    {
      "cell_type": "markdown",
      "metadata": {
        "id": "VzKq416LfRWi"
      },
      "source": [
        "### freesurfer"
      ]
    },
    {
      "cell_type": "code",
      "execution_count": null,
      "metadata": {
        "colab": {
          "base_uri": "https://localhost:8080/"
        },
        "id": "0dusK8OcfTxk",
        "outputId": "c1f805a3-9efe-417c-9792-0a7c11cfa9b4"
      },
      "outputs": [
        {
          "name": "stdout",
          "output_type": "stream",
          "text": [
            "--2024-06-11 11:53:35--  https://surfer.nmr.mgh.harvard.edu/pub/dist/freesurfer/dev/freesurfer-linux-ubuntu22_x86_64-7-dev.tar.gz\n",
            "Resolving surfer.nmr.mgh.harvard.edu (surfer.nmr.mgh.harvard.edu)... 132.183.1.43\n",
            "Connecting to surfer.nmr.mgh.harvard.edu (surfer.nmr.mgh.harvard.edu)|132.183.1.43|:443... connected.\n",
            "HTTP request sent, awaiting response... 200 OK\n",
            "Length: 10563862996 (9.8G) [application/x-gzip]\n",
            "Saving to: ‘freesurfer-linux-ubuntu22_x86_64-7-dev.tar.gz’\n",
            "\n",
            "         freesurfer   0%[                    ]  54.50K   144KB/s               "
          ]
        }
      ],
      "source": [
        "!wget https://surfer.nmr.mgh.harvard.edu/pub/dist/freesurfer/dev/freesurfer-linux-ubuntu22_x86_64-7-dev.tar.gz"
      ]
    },
    {
      "cell_type": "code",
      "execution_count": null,
      "metadata": {
        "id": "DimghG5Cf0OE"
      },
      "outputs": [],
      "source": [
        "!tar -xzf freesurfer-linux-ubuntu22_x86_64-7-dev.tar.gz"
      ]
    },
    {
      "cell_type": "code",
      "execution_count": null,
      "metadata": {
        "id": "_SWuM3qgAa7b"
      },
      "outputs": [],
      "source": [
        "!rm freesurfer-linux-ubuntu22_x86_64-7-dev.tar.gz"
      ]
    },
    {
      "cell_type": "code",
      "execution_count": null,
      "metadata": {
        "id": "Sh83qEGHn8a-"
      },
      "outputs": [],
      "source": [
        "!pip install surfa"
      ]
    },
    {
      "cell_type": "markdown",
      "metadata": {
        "id": "k_tDcfpCQbPQ"
      },
      "source": [
        "### fastsurfer"
      ]
    },
    {
      "cell_type": "code",
      "execution_count": null,
      "metadata": {
        "cellView": "form",
        "colab": {
          "base_uri": "https://localhost:8080/",
          "height": 1000
        },
        "id": "u2iEQOTlJiHe",
        "outputId": "b1839ba5-97d6-4751-c7ae-099c3a9dabe7"
      },
      "outputs": [
        {
          "name": "stdout",
          "output_type": "stream",
          "text": [
            "Starting setup. This could take a few minutes\n",
            "----------------------------------------------\n",
            "/content\n",
            "Using /content/ to store files.\n",
            "Downloading FastSurfer\n",
            "----------------------------------------------\n",
            "Looking in indexes: https://pypi.org/simple, https://download.pytorch.org/whl/cu117\n",
            "Collecting absl-py==2.0.0 (from -r /content/fastsurfer//requirements.txt (line 9))\n",
            "  Downloading absl_py-2.0.0-py3-none-any.whl (130 kB)\n",
            "\u001b[2K     \u001b[90m━━━━━━━━━━━━━━━━━━━━━━━━━━━━━━━━━━━━━━━━\u001b[0m \u001b[32m130.2/130.2 kB\u001b[0m \u001b[31m3.3 MB/s\u001b[0m eta \u001b[36m0:00:00\u001b[0m\n",
            "\u001b[?25hCollecting cachetools==5.3.2 (from -r /content/fastsurfer//requirements.txt (line 11))\n",
            "  Downloading cachetools-5.3.2-py3-none-any.whl (9.3 kB)\n",
            "Collecting certifi==2023.7.22 (from -r /content/fastsurfer//requirements.txt (line 13))\n",
            "  Downloading certifi-2023.7.22-py3-none-any.whl (158 kB)\n",
            "\u001b[2K     \u001b[90m━━━━━━━━━━━━━━━━━━━━━━━━━━━━━━━━━━━━━━━━\u001b[0m \u001b[32m158.3/158.3 kB\u001b[0m \u001b[31m5.5 MB/s\u001b[0m eta \u001b[36m0:00:00\u001b[0m\n",
            "\u001b[?25hRequirement already satisfied: charset-normalizer==3.3.2 in /usr/local/lib/python3.10/dist-packages (from -r /content/fastsurfer//requirements.txt (line 15)) (3.3.2)\n",
            "Requirement already satisfied: click==8.1.7 in /usr/local/lib/python3.10/dist-packages (from -r /content/fastsurfer//requirements.txt (line 17)) (8.1.7)\n",
            "Collecting cmake==3.27.7 (from -r /content/fastsurfer//requirements.txt (line 19))\n",
            "  Downloading cmake-3.27.7-py2.py3-none-manylinux2014_x86_64.manylinux_2_17_x86_64.whl (26.0 MB)\n",
            "\u001b[2K     \u001b[90m━━━━━━━━━━━━━━━━━━━━━━━━━━━━━━━━━━━━━━━━\u001b[0m \u001b[32m26.0/26.0 MB\u001b[0m \u001b[31m45.6 MB/s\u001b[0m eta \u001b[36m0:00:00\u001b[0m\n",
            "\u001b[?25hCollecting contourpy==1.2.0 (from -r /content/fastsurfer//requirements.txt (line 21))\n",
            "  Downloading contourpy-1.2.0-cp310-cp310-manylinux_2_17_x86_64.manylinux2014_x86_64.whl (310 kB)\n",
            "\u001b[2K     \u001b[90m━━━━━━━━━━━━━━━━━━━━━━━━━━━━━━━━━━━━━━━━\u001b[0m \u001b[32m310.7/310.7 kB\u001b[0m \u001b[31m30.6 MB/s\u001b[0m eta \u001b[36m0:00:00\u001b[0m\n",
            "\u001b[?25hRequirement already satisfied: cycler==0.12.1 in /usr/local/lib/python3.10/dist-packages (from -r /content/fastsurfer//requirements.txt (line 23)) (0.12.1)\n",
            "Collecting deprecated==1.2.14 (from -r /content/fastsurfer//requirements.txt (line 25))\n",
            "  Downloading Deprecated-1.2.14-py2.py3-none-any.whl (9.6 kB)\n",
            "Collecting filelock==3.13.1 (from -r /content/fastsurfer//requirements.txt (line 27))\n",
            "  Downloading https://download.pytorch.org/whl/filelock-3.13.1-py3-none-any.whl (11 kB)\n",
            "Collecting fonttools==4.44.3 (from -r /content/fastsurfer//requirements.txt (line 31))\n",
            "  Downloading fonttools-4.44.3-cp310-cp310-manylinux_2_17_x86_64.manylinux2014_x86_64.whl (4.5 MB)\n",
            "\u001b[2K     \u001b[90m━━━━━━━━━━━━━━━━━━━━━━━━━━━━━━━━━━━━━━━━\u001b[0m \u001b[32m4.5/4.5 MB\u001b[0m \u001b[31m68.2 MB/s\u001b[0m eta \u001b[36m0:00:00\u001b[0m\n",
            "\u001b[?25hCollecting google-auth==2.23.4 (from -r /content/fastsurfer//requirements.txt (line 33))\n",
            "  Downloading google_auth-2.23.4-py2.py3-none-any.whl (183 kB)\n",
            "\u001b[2K     \u001b[90m━━━━━━━━━━━━━━━━━━━━━━━━━━━━━━━━━━━━━━━━\u001b[0m \u001b[32m183.3/183.3 kB\u001b[0m \u001b[31m20.7 MB/s\u001b[0m eta \u001b[36m0:00:00\u001b[0m\n",
            "\u001b[?25hCollecting google-auth-oauthlib==1.0.0 (from -r /content/fastsurfer//requirements.txt (line 37))\n",
            "  Downloading google_auth_oauthlib-1.0.0-py2.py3-none-any.whl (18 kB)\n",
            "Collecting grpcio==1.59.2 (from -r /content/fastsurfer//requirements.txt (line 39))\n",
            "  Downloading grpcio-1.59.2-cp310-cp310-manylinux_2_17_x86_64.manylinux2014_x86_64.whl (5.3 MB)\n",
            "\u001b[2K     \u001b[90m━━━━━━━━━━━━━━━━━━━━━━━━━━━━━━━━━━━━━━━━\u001b[0m \u001b[32m5.3/5.3 MB\u001b[0m \u001b[31m88.2 MB/s\u001b[0m eta \u001b[36m0:00:00\u001b[0m\n",
            "\u001b[?25hCollecting h5py==3.7.0 (from -r /content/fastsurfer//requirements.txt (line 41))\n",
            "  Downloading h5py-3.7.0-cp310-cp310-manylinux_2_12_x86_64.manylinux2010_x86_64.whl (4.5 MB)\n",
            "\u001b[2K     \u001b[90m━━━━━━━━━━━━━━━━━━━━━━━━━━━━━━━━━━━━━━━━\u001b[0m \u001b[32m4.5/4.5 MB\u001b[0m \u001b[31m90.0 MB/s\u001b[0m eta \u001b[36m0:00:00\u001b[0m\n",
            "\u001b[?25hCollecting humanize==4.8.0 (from -r /content/fastsurfer//requirements.txt (line 43))\n",
            "  Downloading humanize-4.8.0-py3-none-any.whl (117 kB)\n",
            "\u001b[2K     \u001b[90m━━━━━━━━━━━━━━━━━━━━━━━━━━━━━━━━━━━━━━━━\u001b[0m \u001b[32m117.1/117.1 kB\u001b[0m \u001b[31m14.1 MB/s\u001b[0m eta \u001b[36m0:00:00\u001b[0m\n",
            "\u001b[?25hCollecting idna==3.4 (from -r /content/fastsurfer//requirements.txt (line 45))\n",
            "  Downloading https://download.pytorch.org/whl/idna-3.4-py3-none-any.whl (61 kB)\n",
            "\u001b[2K     \u001b[90m━━━━━━━━━━━━━━━━━━━━━━━━━━━━━━━━━━━━━━━━\u001b[0m \u001b[32m61.5/61.5 kB\u001b[0m \u001b[31m2.0 MB/s\u001b[0m eta \u001b[36m0:00:00\u001b[0m\n",
            "\u001b[?25hCollecting imageio==2.32.0 (from -r /content/fastsurfer//requirements.txt (line 47))\n",
            "  Downloading imageio-2.32.0-py3-none-any.whl (313 kB)\n",
            "\u001b[2K     \u001b[90m━━━━━━━━━━━━━━━━━━━━━━━━━━━━━━━━━━━━━━━━\u001b[0m \u001b[32m313.3/313.3 kB\u001b[0m \u001b[31m32.0 MB/s\u001b[0m eta \u001b[36m0:00:00\u001b[0m\n",
            "\u001b[?25hCollecting jinja2==3.1.2 (from -r /content/fastsurfer//requirements.txt (line 49))\n",
            "  Downloading https://download.pytorch.org/whl/Jinja2-3.1.2-py3-none-any.whl (133 kB)\n",
            "\u001b[2K     \u001b[90m━━━━━━━━━━━━━━━━━━━━━━━━━━━━━━━━━━━━━━━━\u001b[0m \u001b[32m133.1/133.1 kB\u001b[0m \u001b[31m5.3 MB/s\u001b[0m eta \u001b[36m0:00:00\u001b[0m\n",
            "\u001b[?25hCollecting joblib==1.3.2 (from -r /content/fastsurfer//requirements.txt (line 51))\n",
            "  Downloading joblib-1.3.2-py3-none-any.whl (302 kB)\n",
            "\u001b[2K     \u001b[90m━━━━━━━━━━━━━━━━━━━━━━━━━━━━━━━━━━━━━━━━\u001b[0m \u001b[32m302.2/302.2 kB\u001b[0m \u001b[31m31.3 MB/s\u001b[0m eta \u001b[36m0:00:00\u001b[0m\n",
            "\u001b[?25hRequirement already satisfied: kiwisolver==1.4.5 in /usr/local/lib/python3.10/dist-packages (from -r /content/fastsurfer//requirements.txt (line 53)) (1.4.5)\n",
            "Collecting lapy==1.0.1 (from -r /content/fastsurfer//requirements.txt (line 55))\n",
            "  Downloading lapy-1.0.1-py3-none-any.whl (60 kB)\n",
            "\u001b[2K     \u001b[90m━━━━━━━━━━━━━━━━━━━━━━━━━━━━━━━━━━━━━━━━\u001b[0m \u001b[32m60.1/60.1 kB\u001b[0m \u001b[31m8.3 MB/s\u001b[0m eta \u001b[36m0:00:00\u001b[0m\n",
            "\u001b[?25hCollecting lit==17.0.5 (from -r /content/fastsurfer//requirements.txt (line 57))\n",
            "  Downloading lit-17.0.5.tar.gz (153 kB)\n",
            "\u001b[2K     \u001b[90m━━━━━━━━━━━━━━━━━━━━━━━━━━━━━━━━━━━━━━━━\u001b[0m \u001b[32m153.0/153.0 kB\u001b[0m \u001b[31m18.4 MB/s\u001b[0m eta \u001b[36m0:00:00\u001b[0m\n",
            "\u001b[?25h  Installing build dependencies ... \u001b[?25l\u001b[?25hdone\n",
            "  Getting requirements to build wheel ... \u001b[?25l\u001b[?25hdone\n",
            "  Installing backend dependencies ... \u001b[?25l\u001b[?25hdone\n",
            "  Preparing metadata (pyproject.toml) ... \u001b[?25l\u001b[?25hdone\n",
            "Collecting markdown==3.5.1 (from -r /content/fastsurfer//requirements.txt (line 59))\n",
            "  Downloading Markdown-3.5.1-py3-none-any.whl (102 kB)\n",
            "\u001b[2K     \u001b[90m━━━━━━━━━━━━━━━━━━━━━━━━━━━━━━━━━━━━━━━━\u001b[0m \u001b[32m102.2/102.2 kB\u001b[0m \u001b[31m12.7 MB/s\u001b[0m eta \u001b[36m0:00:00\u001b[0m\n",
            "\u001b[?25hCollecting markupsafe==2.1.3 (from -r /content/fastsurfer//requirements.txt (line 61))\n",
            "  Downloading https://download.pytorch.org/whl/MarkupSafe-2.1.3-cp310-cp310-manylinux_2_17_x86_64.manylinux2014_x86_64.whl (25 kB)\n",
            "Requirement already satisfied: matplotlib==3.7.1 in /usr/local/lib/python3.10/dist-packages (from -r /content/fastsurfer//requirements.txt (line 65)) (3.7.1)\n",
            "Requirement already satisfied: mpmath==1.3.0 in /usr/local/lib/python3.10/dist-packages (from -r /content/fastsurfer//requirements.txt (line 67)) (1.3.0)\n",
            "Collecting networkx==3.2.1 (from -r /content/fastsurfer//requirements.txt (line 69))\n",
            "  Downloading https://download.pytorch.org/whl/networkx-3.2.1-py3-none-any.whl (1.6 MB)\n",
            "\u001b[2K     \u001b[90m━━━━━━━━━━━━━━━━━━━━━━━━━━━━━━━━━━━━━━━━\u001b[0m \u001b[32m1.6/1.6 MB\u001b[0m \u001b[31m23.2 MB/s\u001b[0m eta \u001b[36m0:00:00\u001b[0m\n",
            "\u001b[?25hCollecting nibabel==5.1.0 (from -r /content/fastsurfer//requirements.txt (line 73))\n",
            "  Downloading nibabel-5.1.0-py3-none-any.whl (3.3 MB)\n",
            "\u001b[2K     \u001b[90m━━━━━━━━━━━━━━━━━━━━━━━━━━━━━━━━━━━━━━━━\u001b[0m \u001b[32m3.3/3.3 MB\u001b[0m \u001b[31m38.0 MB/s\u001b[0m eta \u001b[36m0:00:00\u001b[0m\n",
            "\u001b[?25hCollecting numpy==1.25.0 (from -r /content/fastsurfer//requirements.txt (line 78))\n",
            "  Downloading numpy-1.25.0-cp310-cp310-manylinux_2_17_x86_64.manylinux2014_x86_64.whl (17.6 MB)\n",
            "\u001b[2K     \u001b[90m━━━━━━━━━━━━━━━━━━━━━━━━━━━━━━━━━━━━━━━━\u001b[0m \u001b[32m17.6/17.6 MB\u001b[0m \u001b[31m77.7 MB/s\u001b[0m eta \u001b[36m0:00:00\u001b[0m\n",
            "\u001b[?25hRequirement already satisfied: oauthlib==3.2.2 in /usr/local/lib/python3.10/dist-packages (from -r /content/fastsurfer//requirements.txt (line 96)) (3.2.2)\n",
            "Collecting packaging==23.2 (from -r /content/fastsurfer//requirements.txt (line 98))\n",
            "  Downloading packaging-23.2-py3-none-any.whl (53 kB)\n",
            "\u001b[2K     \u001b[90m━━━━━━━━━━━━━━━━━━━━━━━━━━━━━━━━━━━━━━━━\u001b[0m \u001b[32m53.0/53.0 kB\u001b[0m \u001b[31m7.7 MB/s\u001b[0m eta \u001b[36m0:00:00\u001b[0m\n",
            "\u001b[?25hCollecting pandas==1.5.3 (from -r /content/fastsurfer//requirements.txt (line 104))\n",
            "  Downloading pandas-1.5.3-cp310-cp310-manylinux_2_17_x86_64.manylinux2014_x86_64.whl (12.1 MB)\n",
            "\u001b[2K     \u001b[90m━━━━━━━━━━━━━━━━━━━━━━━━━━━━━━━━━━━━━━━━\u001b[0m \u001b[32m12.1/12.1 MB\u001b[0m \u001b[31m104.7 MB/s\u001b[0m eta \u001b[36m0:00:00\u001b[0m\n",
            "\u001b[?25hCollecting pillow==10.0.1 (from -r /content/fastsurfer//requirements.txt (line 106))\n",
            "  Downloading Pillow-10.0.1-cp310-cp310-manylinux_2_28_x86_64.whl (3.6 MB)\n",
            "\u001b[2K     \u001b[90m━━━━━━━━━━━━━━━━━━━━━━━━━━━━━━━━━━━━━━━━\u001b[0m \u001b[32m3.6/3.6 MB\u001b[0m \u001b[31m99.8 MB/s\u001b[0m eta \u001b[36m0:00:00\u001b[0m\n",
            "\u001b[?25hCollecting plotly==5.18.0 (from -r /content/fastsurfer//requirements.txt (line 113))\n",
            "  Downloading plotly-5.18.0-py3-none-any.whl (15.6 MB)\n",
            "\u001b[2K     \u001b[90m━━━━━━━━━━━━━━━━━━━━━━━━━━━━━━━━━━━━━━━━\u001b[0m \u001b[32m15.6/15.6 MB\u001b[0m \u001b[31m87.0 MB/s\u001b[0m eta \u001b[36m0:00:00\u001b[0m\n",
            "\u001b[?25hCollecting protobuf==4.25.1 (from -r /content/fastsurfer//requirements.txt (line 115))\n",
            "  Downloading protobuf-4.25.1-cp37-abi3-manylinux2014_x86_64.whl (294 kB)\n",
            "\u001b[2K     \u001b[90m━━━━━━━━━━━━━━━━━━━━━━━━━━━━━━━━━━━━━━━━\u001b[0m \u001b[32m294.6/294.6 kB\u001b[0m \u001b[31m32.3 MB/s\u001b[0m eta \u001b[36m0:00:00\u001b[0m\n",
            "\u001b[?25hCollecting psutil==5.9.6 (from -r /content/fastsurfer//requirements.txt (line 117))\n",
            "  Downloading psutil-5.9.6-cp36-abi3-manylinux_2_12_x86_64.manylinux2010_x86_64.manylinux_2_17_x86_64.manylinux2014_x86_64.whl (283 kB)\n",
            "\u001b[2K     \u001b[90m━━━━━━━━━━━━━━━━━━━━━━━━━━━━━━━━━━━━━━━━\u001b[0m \u001b[32m283.6/283.6 kB\u001b[0m \u001b[31m27.7 MB/s\u001b[0m eta \u001b[36m0:00:00\u001b[0m\n",
            "\u001b[?25hCollecting pyasn1==0.5.0 (from -r /content/fastsurfer//requirements.txt (line 119))\n",
            "  Downloading pyasn1-0.5.0-py2.py3-none-any.whl (83 kB)\n",
            "\u001b[2K     \u001b[90m━━━━━━━━━━━━━━━━━━━━━━━━━━━━━━━━━━━━━━━━\u001b[0m \u001b[32m83.9/83.9 kB\u001b[0m \u001b[31m11.4 MB/s\u001b[0m eta \u001b[36m0:00:00\u001b[0m\n",
            "\u001b[?25hCollecting pyasn1-modules==0.3.0 (from -r /content/fastsurfer//requirements.txt (line 123))\n",
            "  Downloading pyasn1_modules-0.3.0-py2.py3-none-any.whl (181 kB)\n",
            "\u001b[2K     \u001b[90m━━━━━━━━━━━━━━━━━━━━━━━━━━━━━━━━━━━━━━━━\u001b[0m \u001b[32m181.3/181.3 kB\u001b[0m \u001b[31m22.2 MB/s\u001b[0m eta \u001b[36m0:00:00\u001b[0m\n",
            "\u001b[?25hCollecting pyparsing==3.1.1 (from -r /content/fastsurfer//requirements.txt (line 125))\n",
            "  Downloading pyparsing-3.1.1-py3-none-any.whl (103 kB)\n",
            "\u001b[2K     \u001b[90m━━━━━━━━━━━━━━━━━━━━━━━━━━━━━━━━━━━━━━━━\u001b[0m \u001b[32m103.1/103.1 kB\u001b[0m \u001b[31m12.5 MB/s\u001b[0m eta \u001b[36m0:00:00\u001b[0m\n",
            "\u001b[?25hRequirement already satisfied: python-dateutil==2.8.2 in /usr/local/lib/python3.10/dist-packages (from -r /content/fastsurfer//requirements.txt (line 127)) (2.8.2)\n",
            "Collecting pytz==2023.3.post1 (from -r /content/fastsurfer//requirements.txt (line 132))\n",
            "  Downloading pytz-2023.3.post1-py2.py3-none-any.whl (502 kB)\n",
            "\u001b[2K     \u001b[90m━━━━━━━━━━━━━━━━━━━━━━━━━━━━━━━━━━━━━━━━\u001b[0m \u001b[32m502.5/502.5 kB\u001b[0m \u001b[31m42.9 MB/s\u001b[0m eta \u001b[36m0:00:00\u001b[0m\n",
            "\u001b[?25hCollecting pywavelets==1.4.1 (from -r /content/fastsurfer//requirements.txt (line 134))\n",
            "  Downloading PyWavelets-1.4.1-cp310-cp310-manylinux_2_17_x86_64.manylinux2014_x86_64.whl (6.8 MB)\n",
            "\u001b[2K     \u001b[90m━━━━━━━━━━━━━━━━━━━━━━━━━━━━━━━━━━━━━━━━\u001b[0m \u001b[32m6.8/6.8 MB\u001b[0m \u001b[31m89.1 MB/s\u001b[0m eta \u001b[36m0:00:00\u001b[0m\n",
            "\u001b[?25hCollecting pyyaml==6.0 (from -r /content/fastsurfer//requirements.txt (line 136))\n",
            "  Downloading PyYAML-6.0-cp310-cp310-manylinux_2_5_x86_64.manylinux1_x86_64.manylinux_2_12_x86_64.manylinux2010_x86_64.whl (682 kB)\n",
            "\u001b[2K     \u001b[90m━━━━━━━━━━━━━━━━━━━━━━━━━━━━━━━━━━━━━━━━\u001b[0m \u001b[32m682.2/682.2 kB\u001b[0m \u001b[31m55.0 MB/s\u001b[0m eta \u001b[36m0:00:00\u001b[0m\n",
            "\u001b[?25hRequirement already satisfied: requests==2.31.0 in /usr/local/lib/python3.10/dist-packages (from -r /content/fastsurfer//requirements.txt (line 140)) (2.31.0)\n",
            "Requirement already satisfied: requests-oauthlib==1.3.1 in /usr/local/lib/python3.10/dist-packages (from -r /content/fastsurfer//requirements.txt (line 145)) (1.3.1)\n",
            "Requirement already satisfied: rsa==4.9 in /usr/local/lib/python3.10/dist-packages (from -r /content/fastsurfer//requirements.txt (line 147)) (4.9)\n",
            "Requirement already satisfied: scikit-image==0.19.3 in /usr/local/lib/python3.10/dist-packages (from -r /content/fastsurfer//requirements.txt (line 149)) (0.19.3)\n",
            "Requirement already satisfied: scikit-learn==1.2.2 in /usr/local/lib/python3.10/dist-packages (from -r /content/fastsurfer//requirements.txt (line 151)) (1.2.2)\n",
            "Collecting scipy==1.10.1 (from -r /content/fastsurfer//requirements.txt (line 153))\n",
            "  Downloading scipy-1.10.1-cp310-cp310-manylinux_2_17_x86_64.manylinux2014_x86_64.whl (34.4 MB)\n",
            "\u001b[2K     \u001b[90m━━━━━━━━━━━━━━━━━━━━━━━━━━━━━━━━━━━━━━━━\u001b[0m \u001b[32m34.4/34.4 MB\u001b[0m \u001b[31m46.5 MB/s\u001b[0m eta \u001b[36m0:00:00\u001b[0m\n",
            "\u001b[?25hCollecting simpleitk==2.2.1 (from -r /content/fastsurfer//requirements.txt (line 160))\n",
            "  Downloading SimpleITK-2.2.1-cp310-cp310-manylinux_2_17_x86_64.manylinux2014_x86_64.whl (52.7 MB)\n",
            "\u001b[2K     \u001b[90m━━━━━━━━━━━━━━━━━━━━━━━━━━━━━━━━━━━━━━━━\u001b[0m \u001b[32m52.7/52.7 MB\u001b[0m \u001b[31m15.9 MB/s\u001b[0m eta \u001b[36m0:00:00\u001b[0m\n",
            "\u001b[?25hRequirement already satisfied: six==1.16.0 in /usr/local/lib/python3.10/dist-packages (from -r /content/fastsurfer//requirements.txt (line 164)) (1.16.0)\n",
            "Collecting sympy==1.12 (from -r /content/fastsurfer//requirements.txt (line 166))\n",
            "  Downloading https://download.pytorch.org/whl/sympy-1.12-py3-none-any.whl (5.7 MB)\n",
            "\u001b[2K     \u001b[90m━━━━━━━━━━━━━━━━━━━━━━━━━━━━━━━━━━━━━━━━\u001b[0m \u001b[32m5.7/5.7 MB\u001b[0m \u001b[31m82.8 MB/s\u001b[0m eta \u001b[36m0:00:00\u001b[0m\n",
            "\u001b[?25hCollecting tenacity==8.2.3 (from -r /content/fastsurfer//requirements.txt (line 168))\n",
            "  Downloading tenacity-8.2.3-py3-none-any.whl (24 kB)\n",
            "Collecting tensorboard==2.12.1 (from -r /content/fastsurfer//requirements.txt (line 170))\n",
            "  Downloading tensorboard-2.12.1-py3-none-any.whl (5.6 MB)\n",
            "\u001b[2K     \u001b[90m━━━━━━━━━━━━━━━━━━━━━━━━━━━━━━━━━━━━━━━━\u001b[0m \u001b[32m5.6/5.6 MB\u001b[0m \u001b[31m100.5 MB/s\u001b[0m eta \u001b[36m0:00:00\u001b[0m\n",
            "\u001b[?25hRequirement already satisfied: tensorboard-data-server==0.7.2 in /usr/local/lib/python3.10/dist-packages (from -r /content/fastsurfer//requirements.txt (line 172)) (0.7.2)\n",
            "Collecting tensorboard-plugin-wit==1.8.1 (from -r /content/fastsurfer//requirements.txt (line 174))\n",
            "  Downloading tensorboard_plugin_wit-1.8.1-py3-none-any.whl (781 kB)\n",
            "\u001b[2K     \u001b[90m━━━━━━━━━━━━━━━━━━━━━━━━━━━━━━━━━━━━━━━━\u001b[0m \u001b[32m781.3/781.3 kB\u001b[0m \u001b[31m60.8 MB/s\u001b[0m eta \u001b[36m0:00:00\u001b[0m\n",
            "\u001b[?25hCollecting threadpoolctl==3.2.0 (from -r /content/fastsurfer//requirements.txt (line 176))\n",
            "  Downloading threadpoolctl-3.2.0-py3-none-any.whl (15 kB)\n",
            "Collecting tifffile==2023.9.26 (from -r /content/fastsurfer//requirements.txt (line 178))\n",
            "  Downloading tifffile-2023.9.26-py3-none-any.whl (222 kB)\n",
            "\u001b[2K     \u001b[90m━━━━━━━━━━━━━━━━━━━━━━━━━━━━━━━━━━━━━━━━\u001b[0m \u001b[32m222.9/222.9 kB\u001b[0m \u001b[31m28.8 MB/s\u001b[0m eta \u001b[36m0:00:00\u001b[0m\n",
            "\u001b[?25hCollecting torch==2.0.1+cu117 (from -r /content/fastsurfer//requirements.txt (line 180))\n",
            "  Downloading https://download.pytorch.org/whl/cu117/torch-2.0.1%2Bcu117-cp310-cp310-linux_x86_64.whl (1843.9 MB)\n",
            "\u001b[2K     \u001b[90m━━━━━━━━━━━━━━━━━━━━━━━━━━━━━━━━━━━━━━━━\u001b[0m \u001b[32m1.8/1.8 GB\u001b[0m \u001b[31m1.2 MB/s\u001b[0m eta \u001b[36m0:00:00\u001b[0m\n",
            "\u001b[?25h\u001b[33mWARNING: Retrying (Retry(total=4, connect=None, read=None, redirect=None, status=None)) after connection broken by 'ProtocolError('Connection aborted.', RemoteDisconnected('Remote end closed connection without response'))': /simple/torchio/\u001b[0m\u001b[33m\n",
            "\u001b[0mCollecting torchio==0.18.83 (from -r /content/fastsurfer//requirements.txt (line 186))\n",
            "  Downloading torchio-0.18.83-py2.py3-none-any.whl (170 kB)\n",
            "\u001b[2K     \u001b[90m━━━━━━━━━━━━━━━━━━━━━━━━━━━━━━━━━━━━━━━━\u001b[0m \u001b[32m170.2/170.2 kB\u001b[0m \u001b[31m21.9 MB/s\u001b[0m eta \u001b[36m0:00:00\u001b[0m\n",
            "\u001b[?25hCollecting torchvision==0.15.2+cu117 (from -r /content/fastsurfer//requirements.txt (line 188))\n",
            "  Downloading https://download.pytorch.org/whl/cu117/torchvision-0.15.2%2Bcu117-cp310-cp310-linux_x86_64.whl (6.1 MB)\n",
            "\u001b[2K     \u001b[90m━━━━━━━━━━━━━━━━━━━━━━━━━━━━━━━━━━━━━━━━\u001b[0m \u001b[32m6.1/6.1 MB\u001b[0m \u001b[31m92.8 MB/s\u001b[0m eta \u001b[36m0:00:00\u001b[0m\n",
            "\u001b[?25hCollecting tqdm==4.65.0 (from -r /content/fastsurfer//requirements.txt (line 190))\n",
            "  Downloading tqdm-4.65.0-py3-none-any.whl (77 kB)\n",
            "\u001b[2K     \u001b[90m━━━━━━━━━━━━━━━━━━━━━━━━━━━━━━━━━━━━━━━━\u001b[0m \u001b[32m77.1/77.1 kB\u001b[0m \u001b[31m10.4 MB/s\u001b[0m eta \u001b[36m0:00:00\u001b[0m\n",
            "\u001b[?25hCollecting triton==2.0.0 (from -r /content/fastsurfer//requirements.txt (line 194))\n",
            "  Downloading https://download.pytorch.org/whl/triton-2.0.0-1-cp310-cp310-manylinux2014_x86_64.manylinux_2_17_x86_64.whl (63.3 MB)\n",
            "\u001b[2K     \u001b[90m━━━━━━━━━━━━━━━━━━━━━━━━━━━━━━━━━━━━━━━━\u001b[0m \u001b[32m63.3/63.3 MB\u001b[0m \u001b[31m24.4 MB/s\u001b[0m eta \u001b[36m0:00:00\u001b[0m\n",
            "\u001b[?25hCollecting typing-extensions==4.8.0 (from -r /content/fastsurfer//requirements.txt (line 196))\n",
            "  Downloading https://download.pytorch.org/whl/typing_extensions-4.8.0-py3-none-any.whl (31 kB)\n",
            "Collecting urllib3==2.1.0 (from -r /content/fastsurfer//requirements.txt (line 198))\n",
            "  Downloading urllib3-2.1.0-py3-none-any.whl (104 kB)\n",
            "\u001b[2K     \u001b[90m━━━━━━━━━━━━━━━━━━━━━━━━━━━━━━━━━━━━━━━━\u001b[0m \u001b[32m104.6/104.6 kB\u001b[0m \u001b[31m13.5 MB/s\u001b[0m eta \u001b[36m0:00:00\u001b[0m\n",
            "\u001b[?25hCollecting werkzeug==3.0.1 (from -r /content/fastsurfer//requirements.txt (line 200))\n",
            "  Downloading werkzeug-3.0.1-py3-none-any.whl (226 kB)\n",
            "\u001b[2K     \u001b[90m━━━━━━━━━━━━━━━━━━━━━━━━━━━━━━━━━━━━━━━━\u001b[0m \u001b[32m226.7/226.7 kB\u001b[0m \u001b[31m29.9 MB/s\u001b[0m eta \u001b[36m0:00:00\u001b[0m\n",
            "\u001b[?25hCollecting wheel==0.41.3 (from -r /content/fastsurfer//requirements.txt (line 202))\n",
            "  Downloading wheel-0.41.3-py3-none-any.whl (65 kB)\n",
            "\u001b[2K     \u001b[90m━━━━━━━━━━━━━━━━━━━━━━━━━━━━━━━━━━━━━━━━\u001b[0m \u001b[32m65.8/65.8 kB\u001b[0m \u001b[31m7.9 MB/s\u001b[0m eta \u001b[36m0:00:00\u001b[0m\n",
            "\u001b[?25hCollecting wrapt==1.16.0 (from -r /content/fastsurfer//requirements.txt (line 204))\n",
            "  Downloading wrapt-1.16.0-cp310-cp310-manylinux_2_5_x86_64.manylinux1_x86_64.manylinux_2_17_x86_64.manylinux2014_x86_64.whl (80 kB)\n",
            "\u001b[2K     \u001b[90m━━━━━━━━━━━━━━━━━━━━━━━━━━━━━━━━━━━━━━━━\u001b[0m \u001b[32m80.3/80.3 kB\u001b[0m \u001b[31m10.2 MB/s\u001b[0m eta \u001b[36m0:00:00\u001b[0m\n",
            "\u001b[?25hCollecting yacs==0.1.8 (from -r /content/fastsurfer//requirements.txt (line 206))\n",
            "  Downloading yacs-0.1.8-py3-none-any.whl (14 kB)\n",
            "Requirement already satisfied: setuptools>=41.0.0 in /usr/local/lib/python3.10/dist-packages (from tensorboard==2.12.1->-r /content/fastsurfer//requirements.txt (line 170)) (67.7.2)\n",
            "Building wheels for collected packages: lit\n",
            "  Building wheel for lit (pyproject.toml) ... \u001b[?25l\u001b[?25hdone\n",
            "  Created wheel for lit: filename=lit-17.0.5-py3-none-any.whl size=93256 sha256=6a974f0a3d7524225fe7b978b91321c6381c83114cf1e7ce195bda4fa6f6a6dc\n",
            "  Stored in directory: /root/.cache/pip/wheels/1c/87/8e/5a42c0d4be23362b68bbff33b17f3c35a3df44f1cd2f5a24b4\n",
            "Successfully built lit\n",
            "Installing collected packages: tensorboard-plugin-wit, simpleitk, pytz, lit, cmake, wrapt, wheel, urllib3, typing-extensions, tqdm, threadpoolctl, tenacity, sympy, pyyaml, pyparsing, pyasn1, psutil, protobuf, pillow, packaging, numpy, networkx, markupsafe, markdown, joblib, idna, humanize, grpcio, fonttools, filelock, certifi, cachetools, absl-py, yacs, werkzeug, tifffile, scipy, pywavelets, pyasn1-modules, plotly, pandas, nibabel, jinja2, imageio, h5py, deprecated, contourpy, lapy, google-auth, google-auth-oauthlib, tensorboard, triton, torch, torchvision, torchio\n",
            "  Attempting uninstall: pytz\n",
            "    Found existing installation: pytz 2023.4\n",
            "    Uninstalling pytz-2023.4:\n",
            "      Successfully uninstalled pytz-2023.4\n",
            "  Attempting uninstall: cmake\n",
            "    Found existing installation: cmake 3.27.9\n",
            "    Uninstalling cmake-3.27.9:\n",
            "      Successfully uninstalled cmake-3.27.9\n",
            "  Attempting uninstall: wrapt\n",
            "    Found existing installation: wrapt 1.14.1\n",
            "    Uninstalling wrapt-1.14.1:\n",
            "      Successfully uninstalled wrapt-1.14.1\n",
            "  Attempting uninstall: wheel\n",
            "    Found existing installation: wheel 0.43.0\n",
            "    Uninstalling wheel-0.43.0:\n",
            "      Successfully uninstalled wheel-0.43.0\n",
            "  Attempting uninstall: urllib3\n",
            "    Found existing installation: urllib3 2.0.7\n",
            "    Uninstalling urllib3-2.0.7:\n",
            "      Successfully uninstalled urllib3-2.0.7\n",
            "  Attempting uninstall: typing-extensions\n",
            "    Found existing installation: typing_extensions 4.12.2\n",
            "    Uninstalling typing_extensions-4.12.2:\n",
            "      Successfully uninstalled typing_extensions-4.12.2\n",
            "  Attempting uninstall: tqdm\n",
            "    Found existing installation: tqdm 4.66.4\n",
            "    Uninstalling tqdm-4.66.4:\n",
            "      Successfully uninstalled tqdm-4.66.4\n",
            "  Attempting uninstall: threadpoolctl\n",
            "    Found existing installation: threadpoolctl 3.5.0\n",
            "    Uninstalling threadpoolctl-3.5.0:\n",
            "      Successfully uninstalled threadpoolctl-3.5.0\n",
            "  Attempting uninstall: tenacity\n",
            "    Found existing installation: tenacity 8.3.0\n",
            "    Uninstalling tenacity-8.3.0:\n",
            "      Successfully uninstalled tenacity-8.3.0\n",
            "  Attempting uninstall: sympy\n",
            "    Found existing installation: sympy 1.12.1\n",
            "    Uninstalling sympy-1.12.1:\n",
            "      Successfully uninstalled sympy-1.12.1\n",
            "  Attempting uninstall: pyyaml\n",
            "    Found existing installation: PyYAML 6.0.1\n",
            "    Uninstalling PyYAML-6.0.1:\n",
            "      Successfully uninstalled PyYAML-6.0.1\n",
            "  Attempting uninstall: pyparsing\n",
            "    Found existing installation: pyparsing 3.1.2\n",
            "    Uninstalling pyparsing-3.1.2:\n",
            "      Successfully uninstalled pyparsing-3.1.2\n",
            "  Attempting uninstall: pyasn1\n",
            "    Found existing installation: pyasn1 0.6.0\n",
            "    Uninstalling pyasn1-0.6.0:\n",
            "      Successfully uninstalled pyasn1-0.6.0\n",
            "  Attempting uninstall: psutil\n",
            "    Found existing installation: psutil 5.9.5\n",
            "    Uninstalling psutil-5.9.5:\n",
            "      Successfully uninstalled psutil-5.9.5\n",
            "  Attempting uninstall: protobuf\n",
            "    Found existing installation: protobuf 3.20.3\n",
            "    Uninstalling protobuf-3.20.3:\n",
            "      Successfully uninstalled protobuf-3.20.3\n",
            "  Attempting uninstall: pillow\n",
            "    Found existing installation: Pillow 9.4.0\n",
            "    Uninstalling Pillow-9.4.0:\n",
            "      Successfully uninstalled Pillow-9.4.0\n",
            "  Attempting uninstall: packaging\n",
            "    Found existing installation: packaging 24.1\n",
            "    Uninstalling packaging-24.1:\n",
            "      Successfully uninstalled packaging-24.1\n",
            "  Attempting uninstall: numpy\n",
            "    Found existing installation: numpy 1.25.2\n",
            "    Uninstalling numpy-1.25.2:\n",
            "      Successfully uninstalled numpy-1.25.2\n",
            "  Attempting uninstall: networkx\n",
            "    Found existing installation: networkx 3.3\n",
            "    Uninstalling networkx-3.3:\n",
            "      Successfully uninstalled networkx-3.3\n",
            "  Attempting uninstall: markupsafe\n",
            "    Found existing installation: MarkupSafe 2.1.5\n",
            "    Uninstalling MarkupSafe-2.1.5:\n",
            "      Successfully uninstalled MarkupSafe-2.1.5\n",
            "  Attempting uninstall: markdown\n",
            "    Found existing installation: Markdown 3.6\n",
            "    Uninstalling Markdown-3.6:\n",
            "      Successfully uninstalled Markdown-3.6\n",
            "  Attempting uninstall: joblib\n",
            "    Found existing installation: joblib 1.4.2\n",
            "    Uninstalling joblib-1.4.2:\n",
            "      Successfully uninstalled joblib-1.4.2\n",
            "  Attempting uninstall: idna\n",
            "    Found existing installation: idna 3.7\n",
            "    Uninstalling idna-3.7:\n",
            "      Successfully uninstalled idna-3.7\n",
            "  Attempting uninstall: humanize\n",
            "    Found existing installation: humanize 4.7.0\n",
            "    Uninstalling humanize-4.7.0:\n",
            "      Successfully uninstalled humanize-4.7.0\n",
            "  Attempting uninstall: grpcio\n",
            "    Found existing installation: grpcio 1.64.1\n",
            "    Uninstalling grpcio-1.64.1:\n",
            "      Successfully uninstalled grpcio-1.64.1\n",
            "  Attempting uninstall: fonttools\n",
            "    Found existing installation: fonttools 4.53.0\n",
            "    Uninstalling fonttools-4.53.0:\n",
            "      Successfully uninstalled fonttools-4.53.0\n",
            "  Attempting uninstall: filelock\n",
            "    Found existing installation: filelock 3.14.0\n",
            "    Uninstalling filelock-3.14.0:\n",
            "      Successfully uninstalled filelock-3.14.0\n",
            "  Attempting uninstall: certifi\n",
            "    Found existing installation: certifi 2024.6.2\n",
            "    Uninstalling certifi-2024.6.2:\n",
            "      Successfully uninstalled certifi-2024.6.2\n",
            "  Attempting uninstall: cachetools\n",
            "    Found existing installation: cachetools 5.3.3\n",
            "    Uninstalling cachetools-5.3.3:\n",
            "      Successfully uninstalled cachetools-5.3.3\n",
            "  Attempting uninstall: absl-py\n",
            "    Found existing installation: absl-py 1.4.0\n",
            "    Uninstalling absl-py-1.4.0:\n",
            "      Successfully uninstalled absl-py-1.4.0\n",
            "  Attempting uninstall: werkzeug\n",
            "    Found existing installation: Werkzeug 3.0.3\n",
            "    Uninstalling Werkzeug-3.0.3:\n",
            "      Successfully uninstalled Werkzeug-3.0.3\n",
            "  Attempting uninstall: tifffile\n",
            "    Found existing installation: tifffile 2024.5.22\n",
            "    Uninstalling tifffile-2024.5.22:\n",
            "      Successfully uninstalled tifffile-2024.5.22\n",
            "  Attempting uninstall: scipy\n",
            "    Found existing installation: scipy 1.11.4\n",
            "    Uninstalling scipy-1.11.4:\n",
            "      Successfully uninstalled scipy-1.11.4\n",
            "  Attempting uninstall: pywavelets\n",
            "    Found existing installation: PyWavelets 1.6.0\n",
            "    Uninstalling PyWavelets-1.6.0:\n",
            "      Successfully uninstalled PyWavelets-1.6.0\n",
            "  Attempting uninstall: pyasn1-modules\n",
            "    Found existing installation: pyasn1_modules 0.4.0\n",
            "    Uninstalling pyasn1_modules-0.4.0:\n",
            "      Successfully uninstalled pyasn1_modules-0.4.0\n",
            "  Attempting uninstall: plotly\n",
            "    Found existing installation: plotly 5.15.0\n",
            "    Uninstalling plotly-5.15.0:\n",
            "      Successfully uninstalled plotly-5.15.0\n",
            "  Attempting uninstall: pandas\n",
            "    Found existing installation: pandas 2.0.3\n",
            "    Uninstalling pandas-2.0.3:\n",
            "      Successfully uninstalled pandas-2.0.3\n",
            "  Attempting uninstall: nibabel\n",
            "    Found existing installation: nibabel 4.0.2\n",
            "    Uninstalling nibabel-4.0.2:\n",
            "      Successfully uninstalled nibabel-4.0.2\n",
            "  Attempting uninstall: jinja2\n",
            "    Found existing installation: Jinja2 3.1.4\n",
            "    Uninstalling Jinja2-3.1.4:\n",
            "      Successfully uninstalled Jinja2-3.1.4\n",
            "  Attempting uninstall: imageio\n",
            "    Found existing installation: imageio 2.31.6\n",
            "    Uninstalling imageio-2.31.6:\n",
            "      Successfully uninstalled imageio-2.31.6\n",
            "  Attempting uninstall: h5py\n",
            "    Found existing installation: h5py 3.9.0\n",
            "    Uninstalling h5py-3.9.0:\n",
            "      Successfully uninstalled h5py-3.9.0\n",
            "  Attempting uninstall: contourpy\n",
            "    Found existing installation: contourpy 1.2.1\n",
            "    Uninstalling contourpy-1.2.1:\n",
            "      Successfully uninstalled contourpy-1.2.1\n",
            "  Attempting uninstall: google-auth\n",
            "    Found existing installation: google-auth 2.27.0\n",
            "    Uninstalling google-auth-2.27.0:\n",
            "      Successfully uninstalled google-auth-2.27.0\n",
            "  Attempting uninstall: google-auth-oauthlib\n",
            "    Found existing installation: google-auth-oauthlib 1.2.0\n",
            "    Uninstalling google-auth-oauthlib-1.2.0:\n",
            "      Successfully uninstalled google-auth-oauthlib-1.2.0\n",
            "  Attempting uninstall: tensorboard\n",
            "    Found existing installation: tensorboard 2.15.2\n",
            "    Uninstalling tensorboard-2.15.2:\n",
            "      Successfully uninstalled tensorboard-2.15.2\n",
            "  Attempting uninstall: triton\n",
            "    Found existing installation: triton 2.3.0\n",
            "    Uninstalling triton-2.3.0:\n",
            "      Successfully uninstalled triton-2.3.0\n",
            "  Attempting uninstall: torch\n",
            "    Found existing installation: torch 2.3.0+cu121\n",
            "    Uninstalling torch-2.3.0+cu121:\n",
            "      Successfully uninstalled torch-2.3.0+cu121\n",
            "  Attempting uninstall: torchvision\n",
            "    Found existing installation: torchvision 0.18.0+cu121\n",
            "    Uninstalling torchvision-0.18.0+cu121:\n",
            "      Successfully uninstalled torchvision-0.18.0+cu121\n",
            "\u001b[31mERROR: pip's dependency resolver does not currently take into account all the packages that are installed. This behaviour is the source of the following dependency conflicts.\n",
            "cudf-cu12 24.4.1 requires pandas<2.2.2dev0,>=2.0, but you have pandas 1.5.3 which is incompatible.\n",
            "google-colab 1.0.0 requires google-auth==2.27.0, but you have google-auth 2.23.4 which is incompatible.\n",
            "google-colab 1.0.0 requires pandas==2.0.3, but you have pandas 1.5.3 which is incompatible.\n",
            "tensorflow 2.15.0 requires tensorboard<2.16,>=2.15, but you have tensorboard 2.12.1 which is incompatible.\n",
            "tensorflow 2.15.0 requires wrapt<1.15,>=1.11.0, but you have wrapt 1.16.0 which is incompatible.\n",
            "tensorflow-metadata 1.15.0 requires protobuf<4.21,>=3.20.3; python_version < \"3.11\", but you have protobuf 4.25.1 which is incompatible.\n",
            "torchaudio 2.3.0+cu121 requires torch==2.3.0, but you have torch 2.0.1+cu117 which is incompatible.\n",
            "torchtext 0.18.0 requires torch>=2.3.0, but you have torch 2.0.1+cu117 which is incompatible.\u001b[0m\u001b[31m\n",
            "\u001b[0mSuccessfully installed absl-py-2.0.0 cachetools-5.3.2 certifi-2023.7.22 cmake-3.27.7 contourpy-1.2.0 deprecated-1.2.14 filelock-3.13.1 fonttools-4.44.3 google-auth-2.23.4 google-auth-oauthlib-1.0.0 grpcio-1.59.2 h5py-3.7.0 humanize-4.8.0 idna-3.4 imageio-2.32.0 jinja2-3.1.2 joblib-1.3.2 lapy-1.0.1 lit-17.0.5 markdown-3.5.1 markupsafe-2.1.3 networkx-3.2.1 nibabel-5.1.0 numpy-1.25.0 packaging-23.2 pandas-1.5.3 pillow-10.0.1 plotly-5.18.0 protobuf-4.25.1 psutil-5.9.6 pyasn1-0.5.0 pyasn1-modules-0.3.0 pyparsing-3.1.1 pytz-2023.3.post1 pywavelets-1.4.1 pyyaml-6.0 scipy-1.10.1 simpleitk-2.2.1 sympy-1.12 tenacity-8.2.3 tensorboard-2.12.1 tensorboard-plugin-wit-1.8.1 threadpoolctl-3.2.0 tifffile-2023.9.26 torch-2.0.1+cu117 torchio-0.18.83 torchvision-0.15.2+cu117 tqdm-4.65.0 triton-2.0.0 typing-extensions-4.8.0 urllib3-2.1.0 werkzeug-3.0.1 wheel-0.41.3 wrapt-1.16.0 yacs-0.1.8\n"
          ]
        },
        {
          "data": {
            "application/vnd.colab-display-data+json": {
              "id": "48343246ec784ae58a1ee86c1090a68f",
              "pip_warning": {
                "packages": [
                  "PIL",
                  "certifi",
                  "google",
                  "numpy",
                  "psutil"
                ]
              }
            }
          },
          "metadata": {},
          "output_type": "display_data"
        },
        {
          "name": "stdout",
          "output_type": "stream",
          "text": [
            "Installing required packages\n",
            "----------------------------------------------\n",
            "Requirement already satisfied: torchio==0.18.83 in /usr/local/lib/python3.10/dist-packages (0.18.83)\n",
            "Requirement already satisfied: Deprecated in /usr/local/lib/python3.10/dist-packages (from torchio==0.18.83) (1.2.14)\n",
            "Requirement already satisfied: SimpleITK!=2.0.*,!=2.1.1.1 in /usr/local/lib/python3.10/dist-packages (from torchio==0.18.83) (2.2.1)\n",
            "Requirement already satisfied: click in /usr/local/lib/python3.10/dist-packages (from torchio==0.18.83) (8.1.7)\n",
            "Requirement already satisfied: humanize in /usr/local/lib/python3.10/dist-packages (from torchio==0.18.83) (4.8.0)\n",
            "Requirement already satisfied: nibabel in /usr/local/lib/python3.10/dist-packages (from torchio==0.18.83) (5.1.0)\n",
            "Requirement already satisfied: numpy>=1.15 in /usr/local/lib/python3.10/dist-packages (from torchio==0.18.83) (1.25.0)\n",
            "Requirement already satisfied: scipy in /usr/local/lib/python3.10/dist-packages (from torchio==0.18.83) (1.10.1)\n",
            "Requirement already satisfied: torch>=1.1 in /usr/local/lib/python3.10/dist-packages (from torchio==0.18.83) (2.0.1+cu117)\n",
            "Requirement already satisfied: tqdm in /usr/local/lib/python3.10/dist-packages (from torchio==0.18.83) (4.65.0)\n",
            "Requirement already satisfied: filelock in /usr/local/lib/python3.10/dist-packages (from torch>=1.1->torchio==0.18.83) (3.13.1)\n",
            "Requirement already satisfied: typing-extensions in /usr/local/lib/python3.10/dist-packages (from torch>=1.1->torchio==0.18.83) (4.8.0)\n",
            "Requirement already satisfied: sympy in /usr/local/lib/python3.10/dist-packages (from torch>=1.1->torchio==0.18.83) (1.12)\n",
            "Requirement already satisfied: networkx in /usr/local/lib/python3.10/dist-packages (from torch>=1.1->torchio==0.18.83) (3.2.1)\n",
            "Requirement already satisfied: jinja2 in /usr/local/lib/python3.10/dist-packages (from torch>=1.1->torchio==0.18.83) (3.1.2)\n",
            "Requirement already satisfied: triton==2.0.0 in /usr/local/lib/python3.10/dist-packages (from torch>=1.1->torchio==0.18.83) (2.0.0)\n",
            "Requirement already satisfied: cmake in /usr/local/lib/python3.10/dist-packages (from triton==2.0.0->torch>=1.1->torchio==0.18.83) (3.27.7)\n",
            "Requirement already satisfied: lit in /usr/local/lib/python3.10/dist-packages (from triton==2.0.0->torch>=1.1->torchio==0.18.83) (17.0.5)\n",
            "Requirement already satisfied: wrapt<2,>=1.10 in /usr/local/lib/python3.10/dist-packages (from Deprecated->torchio==0.18.83) (1.16.0)\n",
            "Requirement already satisfied: packaging>=17 in /usr/local/lib/python3.10/dist-packages (from nibabel->torchio==0.18.83) (23.2)\n",
            "Requirement already satisfied: MarkupSafe>=2.0 in /usr/local/lib/python3.10/dist-packages (from jinja2->torch>=1.1->torchio==0.18.83) (2.1.3)\n",
            "Requirement already satisfied: mpmath>=0.19 in /usr/local/lib/python3.10/dist-packages (from sympy->torch>=1.1->torchio==0.18.83) (1.3.0)\n",
            "Requirement already satisfied: yacs==0.1.8 in /usr/local/lib/python3.10/dist-packages (0.1.8)\n",
            "Requirement already satisfied: PyYAML in /usr/local/lib/python3.10/dist-packages (from yacs==0.1.8) (6.0)\n",
            "Collecting plotly==5.9.0\n",
            "  Downloading plotly-5.9.0-py2.py3-none-any.whl (15.2 MB)\n",
            "\u001b[2K     \u001b[90m━━━━━━━━━━━━━━━━━━━━━━━━━━━━━━━━━━━━━━━━\u001b[0m \u001b[32m15.2/15.2 MB\u001b[0m \u001b[31m34.3 MB/s\u001b[0m eta \u001b[36m0:00:00\u001b[0m\n",
            "\u001b[?25hRequirement already satisfied: tenacity>=6.2.0 in /usr/local/lib/python3.10/dist-packages (from plotly==5.9.0) (8.2.3)\n",
            "Installing collected packages: plotly\n",
            "  Attempting uninstall: plotly\n",
            "    Found existing installation: plotly 5.18.0\n",
            "    Uninstalling plotly-5.18.0:\n",
            "      Successfully uninstalled plotly-5.18.0\n",
            "Successfully installed plotly-5.9.0\n",
            "Finished setup\n",
            "----------------------------------------------\n"
          ]
        }
      ],
      "source": [
        "#@title Here we first setup the environment by downloading the open source deep-mi/fastsurfer project and the required packages\n",
        "import os\n",
        "import sys\n",
        "from os.path import exists, join, basename, splitext\n",
        "\n",
        "print(\"Starting setup. This could take a few minutes\")\n",
        "print(\"----------------------------------------------\")\n",
        "\n",
        "is_google_colab = \"colab.research.google.com\" in str(os.environ)\n",
        "if is_google_colab:\n",
        "    # this is for a Google Colab Notebook\n",
        "    SETUP_DIR = \"/content/\"\n",
        "else:\n",
        "    SETUP_DIR = os.environ[\"HOME\"] + \"/fastsurfer_tutorial/\"\n",
        "\n",
        "# Go to the FastSurfer directory\n",
        "!mkdir -p \"{SETUP_DIR}\"\n",
        "%cd \"{SETUP_DIR}\"\n",
        "\n",
        "print(f\"Using {SETUP_DIR} to store files.\")\n",
        "\n",
        "print(\"Downloading FastSurfer\")\n",
        "print(\"----------------------------------------------\")\n",
        "\n",
        "\n",
        "git_repo_url = 'https://github.com/deep-mi/fastsurfer.git'\n",
        "project_name = splitext(basename(git_repo_url))[0]\n",
        "FASTSURFER_HOME = SETUP_DIR + project_name + \"/\"\n",
        "if not exists(project_name):\n",
        "  # clone and install dependencies\n",
        "  ! git clone -q --branch stable $git_repo_url\n",
        "  ! pip install -r $FASTSURFER_HOME/requirements.txt\n",
        "sys.path.append(FASTSURFER_HOME)\n",
        "\n",
        "# Update dependencies\n",
        "print(\"Installing required packages\")\n",
        "print(\"----------------------------------------------\")\n",
        "\n",
        "! pip install torchio==0.18.83\n",
        "! pip install yacs==0.1.8\n",
        "! pip install plotly==5.9.0\n",
        "\n",
        "print(\"Finished setup\")\n",
        "print(\"----------------------------------------------\")\n"
      ]
    },
    {
      "cell_type": "markdown",
      "metadata": {
        "id": "86M7oz7NmnG6"
      },
      "source": [
        "### set environmetn variables"
      ]
    },
    {
      "cell_type": "code",
      "execution_count": null,
      "metadata": {
        "id": "WeEyFkW3dcIk"
      },
      "outputs": [],
      "source": [
        "import os\n",
        "os.environ['FSLDIR'] = '/usr/local/fsl'\n",
        "os.environ['PATH'] = os.environ['PATH'] + ':/usr/local/fsl/bin'\n",
        "os.environ['FSLOUTPUTTYPE'] = 'NIFTI_GZ'\n",
        "# os.environ['PATH'] = '/opt/bin:/usr/local/nvidia/bin:/usr/local/cuda/bin:/usr/local/sbin:/usr/local/bin:/usr/sbin:/usr/bin:/sbin:/bin:/tools/node/bin:/tools/google-cloud-sdk/bin:/usr/local/fsl/bin'"
      ]
    },
    {
      "cell_type": "code",
      "execution_count": null,
      "metadata": {
        "id": "X8m2PhFZiWEe"
      },
      "outputs": [],
      "source": [
        "import os\n",
        "os.environ['FREESURFER_HOME'] = '/content/freesurfer'\n",
        "os.environ['PATH'] = os.environ['PATH'] + ':' + '/content/freesurfer/bin' + ':' + '/content/freesurfer/fsfast/bin' + ':' + '/content/freesurfer/tktools' + ':' + '/content/freesurfer/mni/bin'"
      ]
    },
    {
      "cell_type": "markdown",
      "metadata": {
        "id": "kthIXagFi5jL"
      },
      "source": [
        "### copy the scripts here"
      ]
    },
    {
      "cell_type": "code",
      "execution_count": null,
      "metadata": {
        "id": "w6wr72Izi9JU"
      },
      "outputs": [],
      "source": [
        "!cp -r .scripts/* ."
      ]
    },
    {
      "cell_type": "markdown",
      "metadata": {
        "id": "U3rW5LhXnAOX"
      },
      "source": [
        "### freesurfer license"
      ]
    },
    {
      "cell_type": "code",
      "execution_count": null,
      "metadata": {
        "id": "hvDXEfYcSd1-"
      },
      "outputs": [],
      "source": [
        "!mkdir freesurfer"
      ]
    },
    {
      "cell_type": "code",
      "execution_count": null,
      "metadata": {
        "id": "mn0nf6xwnCgP"
      },
      "outputs": [],
      "source": [
        "!cp drive/MyDrive/Utils/General/freesurfer/license.txt /content/freesurfer/.license"
      ]
    },
    {
      "cell_type": "markdown",
      "metadata": {
        "id": "cDSOwRJnGPfT"
      },
      "source": [
        "### parallel"
      ]
    },
    {
      "cell_type": "code",
      "execution_count": null,
      "metadata": {
        "colab": {
          "base_uri": "https://localhost:8080/"
        },
        "id": "xEAMwpMKF8rB",
        "outputId": "7017acff-d82a-44e4-cd06-6369a9727812"
      },
      "outputs": [
        {
          "name": "stdout",
          "output_type": "stream",
          "text": [
            "Reading package lists... Done\n",
            "Building dependency tree... Done\n",
            "Reading state information... Done\n",
            "The following additional packages will be installed:\n",
            "  sysstat\n",
            "Suggested packages:\n",
            "  ash csh fish ksh tcsh zsh isag\n",
            "The following NEW packages will be installed:\n",
            "  parallel sysstat\n",
            "0 upgraded, 2 newly installed, 0 to remove and 45 not upgraded.\n",
            "Need to get 2,434 kB of archives.\n",
            "After this operation, 4,521 kB of additional disk space will be used.\n",
            "Get:1 http://archive.ubuntu.com/ubuntu jammy-updates/main amd64 sysstat amd64 12.5.2-2ubuntu0.2 [487 kB]\n",
            "Get:2 http://archive.ubuntu.com/ubuntu jammy/universe amd64 parallel all 20210822+ds-2 [1,947 kB]\n",
            "Fetched 2,434 kB in 4s (645 kB/s)\n",
            "Preconfiguring packages ...\n",
            "Selecting previously unselected package sysstat.\n",
            "(Reading database ... 121913 files and directories currently installed.)\n",
            "Preparing to unpack .../sysstat_12.5.2-2ubuntu0.2_amd64.deb ...\n",
            "Unpacking sysstat (12.5.2-2ubuntu0.2) ...\n",
            "Selecting previously unselected package parallel.\n",
            "Preparing to unpack .../parallel_20210822+ds-2_all.deb ...\n",
            "Adding 'diversion of /usr/bin/parallel to /usr/bin/parallel.moreutils by parallel'\n",
            "Adding 'diversion of /usr/share/man/man1/parallel.1.gz to /usr/share/man/man1/parallel.moreutils.1.gz by parallel'\n",
            "Unpacking parallel (20210822+ds-2) ...\n",
            "Setting up sysstat (12.5.2-2ubuntu0.2) ...\n",
            "\n",
            "Creating config file /etc/default/sysstat with new version\n",
            "update-alternatives: using /usr/bin/sar.sysstat to provide /usr/bin/sar (sar) in auto mode\n",
            "Created symlink /etc/systemd/system/sysstat.service.wants/sysstat-collect.timer → /lib/systemd/system/sysstat-collect.timer.\n",
            "Created symlink /etc/systemd/system/sysstat.service.wants/sysstat-summary.timer → /lib/systemd/system/sysstat-summary.timer.\n",
            "Created symlink /etc/systemd/system/multi-user.target.wants/sysstat.service → /lib/systemd/system/sysstat.service.\n",
            "Setting up parallel (20210822+ds-2) ...\n",
            "Processing triggers for man-db (2.10.2-1) ...\n"
          ]
        }
      ],
      "source": [
        "!apt install parallel"
      ]
    },
    {
      "cell_type": "markdown",
      "metadata": {
        "id": "s8e5OLzhC_Ma"
      },
      "source": [
        "# run scripts"
      ]
    },
    {
      "cell_type": "code",
      "execution_count": null,
      "metadata": {
        "colab": {
          "base_uri": "https://localhost:8080/"
        },
        "id": "EC8-7x4eIaPf",
        "outputId": "3f8add80-6ea6-4fd4-cb07-7b5fa54231d6"
      },
      "outputs": [],
      "source": [
        "!rm -rf fastsurfer_seg && rm -rf processed && rm -rf processed_gm && rm -rf processed_stats && rm intermediate.txt && rm intermediate.lock"
      ]
    },
    {
      "cell_type": "code",
      "execution_count": null,
      "metadata": {
        "colab": {
          "base_uri": "https://localhost:8080/"
        },
        "id": "920qSzMqDBzP",
        "outputId": "38ddff63-401e-4f53-d420-305f8dd22676"
      },
      "outputs": [
        {
          "name": "stdout",
          "output_type": "stream",
          "text": [
            "nohup: appending output to 'nohup.out'\n"
          ]
        }
      ],
      "source": [
        "!nohup bash ./enjoyer.sh &"
      ]
    },
    {
      "cell_type": "code",
      "execution_count": null,
      "metadata": {
        "colab": {
          "base_uri": "https://localhost:8080/"
        },
        "id": "OGA-xsgjGuJ2",
        "outputId": "5f0a67c1-90dc-41e4-9cfe-ba2a64706a14"
      },
      "outputs": [
        {
          "name": "stdout",
          "output_type": "stream",
          "text": [
            "1187 files are already processed...\n",
            "/content/nifties/ADNI_941_S_6422_MR_Accelerated_Sagittal_MPRAGE_br_raw_2022102411_20221024095255.nii.gz\n",
            "100%|██████████| 256/256 [00:21<00:00, 11.68batch/s]\n",
            "100%|██████████| 256/256 [00:18<00:00, 14.08batch/s]\n",
            "100%|██████████| 256/256 [00:17<00:00, 14.40batch/s]\n",
            "Subject: 100%|██████████| 1/1 [00:09<00:00,  9.26s/it]\n",
            "/content/nifties/ADNI_941_S_6384_MR_Accelerated_Sagittal_MPRAGE_br_raw_2018060411_20180530103704.nii.gz\n",
            "100%|██████████| 256/256 [00:21<00:00, 11.80batch/s]\n",
            "100%|██████████| 256/256 [00:18<00:00, 14.07batch/s]\n",
            "100%|██████████| 256/256 [00:17<00:00, 14.32batch/s]\n",
            "Subject: 100%|██████████| 1/1 [00:09<00:00,  9.33s/it]\n",
            "/content/nifties/ADNI_941_S_6454_MR_Accelerated_Sagittal_MPRAGE_br_raw_2020091613_20200916103247.nii.gz\n",
            "100%|██████████| 256/256 [00:18<00:00, 13.51batch/s]\n",
            "100%|██████████| 256/256 [00:18<00:00, 13.58batch/s]\n",
            "100%|██████████| 256/256 [00:18<00:00, 13.90batch/s]\n",
            "Subject: 100%|██████████| 1/1 [00:09<00:00,  9.03s/it]\n",
            "/content/nifties/ADNI_941_S_6471_MR_Accelerated_Sagittal_MPRAGE_br_raw_2020090208_20200901124609.nii.gz\n",
            "100%|██████████| 256/256 [00:19<00:00, 13.16batch/s]\n",
            "100%|██████████| 256/256 [00:18<00:00, 13.54batch/s]\n",
            "100%|██████████| 256/256 [00:18<00:00, 13.93batch/s]\n",
            "Subject: 100%|██████████| 1/1 [00:09<00:00,  9.33s/it]\n",
            "/content/nifties/ADNI_941_S_6495_MR_Accelerated_Sagittal_MPRAGE_br_raw_2018071715_20180717100426.nii.gz\n",
            "100%|██████████| 256/256 [00:18<00:00, 13.93batch/s]\n",
            "100%|██████████| 256/256 [00:19<00:00, 13.03batch/s]\n",
            "100%|██████████| 256/256 [00:18<00:00, 13.58batch/s]\n",
            "Subject: 100%|██████████| 1/1 [00:08<00:00,  8.75s/it]\n",
            "/content/nifties/ADNI_941_S_6496_MR_Accelerated_Sagittal_MPRAGE_br_raw_2018071716_20180717110518.nii.gz\n",
            "100%|██████████| 256/256 [00:20<00:00, 12.78batch/s]\n",
            "100%|██████████| 256/256 [00:19<00:00, 13.35batch/s]\n",
            "100%|██████████| 256/256 [00:18<00:00, 14.11batch/s]\n",
            "Subject: 100%|██████████| 1/1 [00:09<00:00,  9.45s/it]\n",
            "/content/nifties/ADNI_941_S_6499_MR_Accelerated_Sagittal_MPRAGE_br_raw_2018072009_20180717120751.nii.gz\n",
            "100%|██████████| 256/256 [00:17<00:00, 14.57batch/s]\n",
            "100%|██████████| 256/256 [00:18<00:00, 13.64batch/s]\n",
            "100%|██████████| 256/256 [00:18<00:00, 14.12batch/s]\n",
            "Subject: 100%|██████████| 1/1 [00:08<00:00,  8.27s/it]\n",
            "/content/nifties/ADNI_941_S_6546_MR_Accelerated_Sagittal_MPRAGE_br_raw_2020093014_20200930095022.nii.gz\n",
            "100%|██████████| 256/256 [00:19<00:00, 12.96batch/s]\n",
            "100%|██████████| 256/256 [00:18<00:00, 13.70batch/s]\n",
            "100%|██████████| 256/256 [00:16<00:00, 15.08batch/s]\n",
            "Subject: 100%|██████████| 1/1 [00:08<00:00,  8.69s/it]\n",
            "/content/nifties/ADNI_941_S_6546_MR_Accelerated_Sagittal_MPRAGE_br_raw_2022100313_20221003115103.nii.gz\n",
            "100%|██████████| 256/256 [00:16<00:00, 15.19batch/s]\n",
            "100%|██████████| 256/256 [00:18<00:00, 13.58batch/s]\n",
            "100%|██████████| 256/256 [00:18<00:00, 14.08batch/s]\n",
            "Subject: 100%|██████████| 1/1 [00:07<00:00,  7.45s/it]\n",
            "/content/nifties/ADNI_941_S_6574_MR_3D_MPRAGE_br_raw_20180910151741920_1_S725814_20180907124748.nii.gz\n",
            "941_S_6574_20180910151741\n",
            "/bin/bash: line 2: 20180907124748: command not found\n",
            "/content/nifties/ADNI_941_S_6570_MR_Accelerated_Sagittal_MPRAGE_br_raw_2018083114_20180831100512.nii.gz\n",
            "100%|██████████| 256/256 [00:19<00:00, 12.89batch/s]\n",
            "100%|██████████| 256/256 [00:18<00:00, 13.54batch/s]\n",
            "100%|██████████| 256/256 [00:16<00:00, 15.86batch/s]\n",
            "Subject: 100%|██████████| 1/1 [00:07<00:00,  7.95s/it]\n",
            "/content/nifties/ADNI_941_S_6574_MR_Accelerated_Sagittal_MPRAGE_br_raw_2018091015_20180907124748.nii.gz\n",
            "100%|██████████| 256/256 [00:16<00:00, 15.69batch/s]\n",
            "100%|██████████| 256/256 [00:19<00:00, 13.11batch/s]\n",
            "100%|██████████| 256/256 [00:18<00:00, 13.83batch/s]\n",
            "Subject: 100%|██████████| 1/1 [00:06<00:00,  6.98s/it]\n",
            "/content/nifties/ADNI_941_S_6575_MR_Accelerated_Sagittal_MPRAGE_br_raw_2019091710_20190916125316.nii.gz\n",
            "100%|██████████| 256/256 [00:20<00:00, 12.75batch/s]\n",
            "100%|██████████| 256/256 [00:19<00:00, 12.90batch/s]\n",
            "100%|██████████| 256/256 [00:15<00:00, 16.37batch/s]\n",
            "Subject: 100%|██████████| 1/1 [00:07<00:00,  7.06s/it]\n",
            "/content/nifties/ADNI_941_S_6580_MR_Accelerated_Sagittal_MPRAGE_br_raw_2018091013_20180907095855.nii.gz\n",
            "100%|██████████| 256/256 [00:15<00:00, 16.65batch/s]\n",
            "100%|██████████| 256/256 [00:19<00:00, 13.32batch/s]\n",
            "100%|██████████| 256/256 [00:18<00:00, 13.98batch/s]\n",
            "Subject: 100%|██████████| 1/1 [00:07<00:00,  7.12s/it]\n",
            "/content/nifties/ADNI_941_S_6580_MR_Accelerated_Sagittal_MPRAGE_br_raw_2019091612_20190913134857.nii.gz\n",
            "100%|██████████| 256/256 [00:20<00:00, 12.77batch/s]\n",
            "100%|██████████| 256/256 [00:19<00:00, 12.92batch/s]\n",
            "100%|██████████| 256/256 [00:14<00:00, 17.67batch/s]\n",
            "Subject: 100%|██████████| 1/1 [00:06<00:00,  6.94s/it]\n",
            "/content/nifties/ADNI_941_S_6580_MR_Accelerated_Sagittal_MPRAGE_br_raw_2020092812_20200928103613.nii.gz\n",
            "100%|██████████| 256/256 [00:14<00:00, 17.46batch/s]\n",
            "100%|██████████| 256/256 [00:19<00:00, 13.10batch/s]\n",
            "100%|██████████| 256/256 [00:18<00:00, 13.63batch/s]\n",
            "Subject: 100%|██████████| 1/1 [00:07<00:00,  7.32s/it]\n",
            "/content/nifties/ADNI_941_S_6581_MR_Accelerated_Sagittal_MPRAGE_br_raw_2018091413_20180912134741.nii.gz\n",
            "100%|██████████| 256/256 [00:20<00:00, 12.65batch/s]\n",
            "100%|██████████| 256/256 [00:19<00:00, 13.06batch/s]\n",
            "100%|██████████| 256/256 [00:14<00:00, 17.95batch/s]\n",
            "Subject: 100%|██████████| 1/1 [00:07<00:00,  7.26s/it]\n",
            "/content/nifties/ADNI_941_S_6581_MR_Accelerated_Sagittal_MPRAGE_br_raw_2020092813_20200925142536.nii.gz\n",
            "100%|██████████| 256/256 [00:13<00:00, 18.93batch/s]\n",
            "100%|██████████| 256/256 [00:19<00:00, 12.95batch/s]\n",
            "100%|██████████| 256/256 [00:18<00:00, 13.71batch/s]\n",
            "Subject: 100%|██████████| 1/1 [00:07<00:00,  7.17s/it]\n",
            "/content/nifties/ADNI_941_S_6581_MR_Accelerated_Sagittal_MPRAGE_br_raw_2022101711_20221017094118.nii.gz\n",
            "100%|██████████| 256/256 [00:19<00:00, 12.90batch/s]\n",
            "100%|██████████| 256/256 [00:19<00:00, 13.18batch/s]\n",
            "100%|██████████| 256/256 [00:13<00:00, 19.40batch/s]\n",
            "Subject: 100%|██████████| 1/1 [00:07<00:00,  7.38s/it]\n",
            "/content/nifties/ADNI_941_S_6854_MR_Accelerated_Sagittal_MPRAGE_br_raw_2020021814_20200214115308.nii.gz\n",
            "100%|██████████| 256/256 [00:13<00:00, 18.42batch/s]\n",
            "100%|██████████| 256/256 [00:19<00:00, 13.05batch/s]\n",
            "100%|██████████| 256/256 [00:18<00:00, 13.86batch/s]\n",
            "Subject: 100%|██████████| 1/1 [00:07<00:00,  7.47s/it]\n",
            "/content/nifties/ADNI_941_S_7041_MR_Accelerated_Sagittal_MPRAGE_br_raw_2022021412_20220214102837.nii.gz\n",
            "100%|██████████| 256/256 [00:19<00:00, 12.83batch/s]\n",
            "100%|██████████| 256/256 [00:19<00:00, 13.03batch/s]\n",
            "100%|██████████| 256/256 [00:13<00:00, 19.47batch/s]\n",
            "Subject: 100%|██████████| 1/1 [00:08<00:00,  8.09s/it]\n",
            "/content/nifties/ADNI_941_S_7051_MR_Accelerated_Sagittal_MPRAGE_br_raw_2022030712_20220307110304.nii.gz\n",
            "100%|██████████| 256/256 [00:13<00:00, 18.36batch/s]\n",
            "100%|██████████| 256/256 [00:19<00:00, 13.21batch/s]\n",
            "100%|██████████| 256/256 [00:18<00:00, 13.86batch/s]\n",
            "Subject: 100%|██████████| 1/1 [00:07<00:00,  7.13s/it]\n",
            "/content/nifties/ADNI_941_S_7087_MR_Accelerated_Sagittal_MPRAGE_br_raw_2022061607_20220615143803.nii.gz\n",
            "100%|██████████| 256/256 [00:20<00:00, 12.67batch/s]\n",
            "100%|██████████| 256/256 [00:19<00:00, 12.84batch/s]\n",
            "100%|██████████| 256/256 [00:12<00:00, 19.80batch/s]\n",
            "Subject: 100%|██████████| 1/1 [00:06<00:00,  6.93s/it]\n"
          ]
        }
      ],
      "source": [
        "!bash ./hardworker.sh"
      ]
    },
    {
      "cell_type": "code",
      "execution_count": null,
      "metadata": {
        "id": "hehKLaNithQW"
      },
      "outputs": [],
      "source": [
        "!tar -czf adni3_processed_p4_inter.tar.gz fastsurfer_seg/ intermediate.txt"
      ]
    },
    {
      "cell_type": "code",
      "execution_count": null,
      "metadata": {
        "id": "kWDL-JAAtsd9"
      },
      "outputs": [],
      "source": [
        "!cp adni3_processed_p4_inter.tar.gz drive/MyDrive/Data/ADNI3-Full-3T/processed/"
      ]
    },
    {
      "cell_type": "code",
      "execution_count": null,
      "metadata": {
        "colab": {
          "base_uri": "https://localhost:8080/"
        },
        "id": "w2mwuZdLUHJT",
        "outputId": "b3ca03cd-aa97-4cb0-a2d0-c9f54b945ec5"
      },
      "outputs": [
        {
          "name": "stdout",
          "output_type": "stream",
          "text": [
            "root     1177704  0.0  0.0   6484  2336 ?        S    05:28   0:00 grep enjoyer\n"
          ]
        }
      ],
      "source": [
        "!ps -aux | grep enjoyer"
      ]
    },
    {
      "cell_type": "code",
      "execution_count": null,
      "metadata": {
        "id": "yVwgDhd6UM2m"
      },
      "outputs": [],
      "source": [
        "!kill -9 119463"
      ]
    }
  ],
  "metadata": {
    "accelerator": "GPU",
    "colab": {
      "collapsed_sections": [
        "TIIwqNFhiNWi",
        "AGylcGm25OOI",
        "VzKq416LfRWi",
        "86M7oz7NmnG6",
        "kthIXagFi5jL",
        "U3rW5LhXnAOX",
        "cDSOwRJnGPfT",
        "uQnR_xdAjazB"
      ],
      "gpuType": "T4",
      "machine_shape": "hm",
      "provenance": []
    },
    "kernelspec": {
      "display_name": "Python 3",
      "name": "python3"
    },
    "language_info": {
      "name": "python"
    }
  },
  "nbformat": 4,
  "nbformat_minor": 0
}
