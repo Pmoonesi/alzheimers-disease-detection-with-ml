{
 "cells": [
  {
   "cell_type": "code",
   "execution_count": 454,
   "id": "tamil-payroll",
   "metadata": {},
   "outputs": [],
   "source": [
    "from selenium import webdriver\n",
    "from selenium.webdriver.support.ui import WebDriverWait\n",
    "from webdriver_manager.chrome import ChromeDriverManager\n",
    "from selenium.common.exceptions import WebDriverException, ElementClickInterceptedException, TimeoutException, StaleElementReferenceException\n",
    "from selenium.webdriver.support import expected_conditions as EC\n",
    "from selenium.webdriver.common.by import By\n",
    "from selenium.webdriver.support.ui import Select\n",
    "\n",
    "# ida credentials\n",
    "username = \"\"\n",
    "password = \"\"\n",
    "\n",
    "# initialize the Chrome driver\n",
    "# driver = webdriver.Chrome(ChromeDriverManager().install())\n",
    "driver = webdriver.Chrome()"
   ]
  },
  {
   "cell_type": "code",
   "execution_count": 455,
   "id": "occupied-owner",
   "metadata": {},
   "outputs": [],
   "source": [
    "# head to ida login page\n",
    "driver.get(\"https://ida.loni.usc.edu/login.jsp\")"
   ]
  },
  {
   "cell_type": "code",
   "execution_count": 456,
   "id": "sufficient-translator",
   "metadata": {},
   "outputs": [],
   "source": [
    "while True:\n",
    "    try:\n",
    "        accept = WebDriverWait(driver, 30).until(\n",
    "                EC.visibility_of_element_located((By.XPATH, \"/html/body/div[2]/div/div[1]/div[3]/div\"))\n",
    "        )\n",
    "        accept.click()\n",
    "        break\n",
    "    except ElementClickInterceptedException as e:\n",
    "        continue"
   ]
  },
  {
   "cell_type": "code",
   "execution_count": 457,
   "id": "organic-franchise",
   "metadata": {},
   "outputs": [],
   "source": [
    "login_menu = WebDriverWait(driver, 20).until(\n",
    "        EC.element_to_be_clickable((By.XPATH, \"/html/body/div[1]/div[2]/div/div/div[2]/div[4]\"))\n",
    ")"
   ]
  },
  {
   "cell_type": "code",
   "execution_count": 458,
   "id": "rising-semiconductor",
   "metadata": {},
   "outputs": [],
   "source": [
    "while True:\n",
    "    try:\n",
    "        # find username/email field \n",
    "        email_field = WebDriverWait(driver, 1).until(\n",
    "                EC.visibility_of_element_located((By.NAME, \"userEmail\"))\n",
    "        )\n",
    "        # find password input field \n",
    "        password_field = WebDriverWait(driver, 1).until(\n",
    "                EC.visibility_of_element_located((By.NAME, \"userPassword\"))\n",
    "        )\n",
    "\n",
    "        # find login button\n",
    "        login_button = WebDriverWait(driver, 1).until(\n",
    "                EC.visibility_of_element_located((By.CLASS_NAME, \"login-btn\"))\n",
    "        )\n",
    "        break\n",
    "    except TimeoutException as e:\n",
    "        login_menu.click()\n"
   ]
  },
  {
   "cell_type": "code",
   "execution_count": 459,
   "id": "moral-korean",
   "metadata": {
    "scrolled": false
   },
   "outputs": [
    {
     "name": "stdout",
     "output_type": "stream",
     "text": [
      "[+] Login successful\n"
     ]
    }
   ],
   "source": [
    "email_field.send_keys(username)\n",
    "password_field.send_keys(password)\n",
    "login_button.click()\n",
    "\n",
    "# wait the ready state to be complete\n",
    "WebDriverWait(driver=driver, timeout=10).until(\n",
    "    lambda x: x.execute_script(\"return document.readyState === 'complete'\")\n",
    ")\n",
    "\n",
    "error_message = \"Invalid password or email address.\"\n",
    "\n",
    "try:\n",
    "    \n",
    "    error = WebDriverWait(driver, 5).until(\n",
    "                    EC.visibility_of_element_located((By.CLASS_NAME, \"ida-menu-login-invalid\"))\n",
    "            )\n",
    "    \n",
    "    # print the errors optionally\n",
    "    while not error.text: \n",
    "        driver.implicitly_wait(0.5)\n",
    "    print(error.text)\n",
    "\n",
    "    # if we find that error message within errors, then our credentials were not correct\n",
    "    if error_message in error.text:\n",
    "        print(\"[!] Login failed because of wrong credentials.\")\n",
    "    else:\n",
    "        print(\"[!] Login failed due to an unknown reason.\")\n",
    "    \n",
    "    exit(-1)\n",
    "        \n",
    "except StaleElementReferenceException as ex:\n",
    "    print(\"stale element reference handled.\")\n",
    "    exit(-1)\n",
    "    \n",
    "except TimeoutException as tex:\n",
    "    print(\"[+] Login successful\")"
   ]
  },
  {
   "cell_type": "code",
   "execution_count": 460,
   "id": "practical-clearing",
   "metadata": {},
   "outputs": [],
   "source": [
    "driver.get('https://ida.loni.usc.edu/pages/access/search.jsp?tab=collection&project=ADNI&page=DOWNLOADS&subPage=IMAGE_COLLECTIONS')"
   ]
  },
  {
   "cell_type": "code",
   "execution_count": 461,
   "id": "social-correction",
   "metadata": {},
   "outputs": [
    {
     "data": {
      "text/plain": [
       "True"
      ]
     },
     "execution_count": 461,
     "metadata": {},
     "output_type": "execute_result"
    }
   ],
   "source": [
    "WebDriverWait(driver=driver, timeout=10).until(\n",
    "    lambda x: x.execute_script(\"return document.readyState === 'complete'\")\n",
    ")"
   ]
  },
  {
   "cell_type": "code",
   "execution_count": 462,
   "id": "literary-function",
   "metadata": {},
   "outputs": [],
   "source": [
    "while True:\n",
    "    try:\n",
    "        collections = WebDriverWait(driver, 1).until(\n",
    "                EC.element_to_be_clickable((By.ID, 'ygtvlabelel1'))\n",
    "        )\n",
    "\n",
    "        collections.click()\n",
    "        break\n",
    "    except TimeoutException as ex:\n",
    "        driver.implicitly_wait(1)\n",
    "        \n",
    "while True:\n",
    "    try:\n",
    "        adni3 = WebDriverWait(driver, 1).until(\n",
    "                EC.element_to_be_clickable((By.ID, \"ygtvlabelel8\")) #id changes for each collection\n",
    "        )\n",
    "\n",
    "        adni3.click()\n",
    "        break\n",
    "    except TimeoutException as ex:\n",
    "        driver.implicitly_wait(1)\n",
    "        \n",
    "while True:\n",
    "    try:\n",
    "        all_checkbox = WebDriverWait(driver, 1).until(\n",
    "                EC.element_to_be_clickable((By.ID, 'selectAllCheckBox'))\n",
    "        )\n",
    "\n",
    "        all_checkbox.click()\n",
    "        break\n",
    "    except TimeoutException as ex:\n",
    "        driver.implicitly_wait(1)\n"
   ]
  },
  {
   "cell_type": "code",
   "execution_count": 463,
   "id": "detailed-phase",
   "metadata": {},
   "outputs": [],
   "source": [
    "while not all_checkbox.get_attribute('checked'):\n",
    "    all_checkbox.click()\n",
    "    driver.implicitly_wait(1)"
   ]
  },
  {
   "cell_type": "code",
   "execution_count": 464,
   "id": "conscious-sweet",
   "metadata": {},
   "outputs": [],
   "source": [
    "advanced_download = WebDriverWait(driver, 5).until(\n",
    "        EC.element_to_be_clickable((By.ID, 'adv-download-button'))\n",
    ")\n",
    "\n",
    "advanced_download.click()"
   ]
  },
  {
   "cell_type": "code",
   "execution_count": 465,
   "id": "furnished-mongolia",
   "metadata": {},
   "outputs": [
    {
     "data": {
      "text/plain": [
       "True"
      ]
     },
     "execution_count": 465,
     "metadata": {},
     "output_type": "execute_result"
    }
   ],
   "source": [
    "WebDriverWait(driver=driver, timeout=10).until(\n",
    "    lambda x: x.execute_script(\"return document.readyState === 'complete'\")\n",
    ")"
   ]
  },
  {
   "cell_type": "code",
   "execution_count": 468,
   "id": "cleared-penalty",
   "metadata": {},
   "outputs": [],
   "source": [
    "driver.switch_to.window(driver.window_handles[1])"
   ]
  },
  {
   "cell_type": "code",
   "execution_count": 474,
   "id": "understood-flavor",
   "metadata": {},
   "outputs": [
    {
     "data": {
      "text/plain": [
       "<selenium.webdriver.remote.webelement.WebElement (session=\"d3521c65287161e97b5f7ecf63206df8\", element=\"5FC481B6B2464242F072DAFE864ACF5D_element_317\")>"
      ]
     },
     "execution_count": 474,
     "metadata": {},
     "output_type": "execute_result"
    }
   ],
   "source": [
    "WebDriverWait(driver, 5).until(\n",
    "        EC.presence_of_element_located((By.ID, 'advanced-download-group-as-select'))\n",
    ")"
   ]
  },
  {
   "cell_type": "code",
   "execution_count": 475,
   "id": "considered-trace",
   "metadata": {},
   "outputs": [],
   "source": [
    "group_as_select = Select(driver.find_element(By.ID, 'advanced-download-group-as-select'))"
   ]
  },
  {
   "cell_type": "code",
   "execution_count": 476,
   "id": "closing-leadership",
   "metadata": {},
   "outputs": [],
   "source": [
    "options = group_as_select.options\n",
    "\n",
    "if len(options) == 0:\n",
    "    print('no options for grouping.')\n",
    "    exit(-1)\n",
    "else:\n",
    "    group_as_select.select_by_index(len(options) - 1)"
   ]
  },
  {
   "cell_type": "code",
   "execution_count": 477,
   "id": "hazardous-tutorial",
   "metadata": {},
   "outputs": [],
   "source": [
    "download_elements = driver.find_elements(By.CLASS_NAME, 'advanced-download-files-list-zipfile-link')"
   ]
  },
  {
   "cell_type": "code",
   "execution_count": 478,
   "id": "aerial-huntington",
   "metadata": {},
   "outputs": [],
   "source": [
    "download_links = list(map(lambda el: el.get_attribute('href'), download_elements))"
   ]
  },
  {
   "cell_type": "code",
   "execution_count": 2,
   "id": "artistic-leonard",
   "metadata": {},
   "outputs": [],
   "source": [
    "download_links"
   ]
  }
 ],
 "metadata": {
  "kernelspec": {
   "display_name": "Python 3",
   "language": "python",
   "name": "python3"
  },
  "language_info": {
   "codemirror_mode": {
    "name": "ipython",
    "version": 3
   },
   "file_extension": ".py",
   "mimetype": "text/x-python",
   "name": "python",
   "nbconvert_exporter": "python",
   "pygments_lexer": "ipython3",
   "version": "3.8.1"
  }
 },
 "nbformat": 4,
 "nbformat_minor": 5
}
